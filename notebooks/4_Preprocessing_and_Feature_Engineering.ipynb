{
 "cells": [
  {
   "cell_type": "markdown",
   "id": "6bcb4c58",
   "metadata": {},
   "source": [
    "1. Import libraries"
   ]
  },
  {
   "cell_type": "code",
   "execution_count": 2,
   "id": "7ac7a478",
   "metadata": {},
   "outputs": [],
   "source": [
    "import os\n",
    "from pathlib import Path\n",
    "import numpy as np\n",
    "import pandas as pd\n",
    "import matplotlib.pyplot as plt\n",
    "import seaborn as sns\n",
    "\n",
    "from sklearn.model_selection import train_test_split\n",
    "from sklearn.compose import ColumnTransformer\n",
    "from sklearn.preprocessing import OneHotEncoder, StandardScaler\n",
    "from sklearn.pipeline import Pipeline\n",
    "from sklearn.metrics import mean_absolute_error, mean_squared_error, r2_score\n",
    "from sklearn.linear_model import LinearRegression, Ridge\n",
    "from sklearn.ensemble import RandomForestRegressor\n",
    "from joblib import dump"
   ]
  },
  {
   "cell_type": "markdown",
   "id": "b9553cf4",
   "metadata": {},
   "source": [
    "2. Configurations"
   ]
  },
  {
   "cell_type": "code",
   "execution_count": 3,
   "id": "e08999cc",
   "metadata": {},
   "outputs": [],
   "source": [
    "RANDOM_STATE = 42\n",
    "np.random.seed(RANDOM_STATE)"
   ]
  },
  {
   "cell_type": "markdown",
   "id": "0625c331",
   "metadata": {},
   "source": [
    "3. Plot Defaults"
   ]
  },
  {
   "cell_type": "code",
   "execution_count": 4,
   "id": "9ef4dbfe",
   "metadata": {},
   "outputs": [],
   "source": [
    "plt.rcParams[\"figure.figsize\"] = (8, 5)\n",
    "plt.rcParams[\"axes.grid\"] = True"
   ]
  },
  {
   "cell_type": "markdown",
   "id": "8611d8ea",
   "metadata": {},
   "source": [
    "4. Paths"
   ]
  },
  {
   "cell_type": "code",
   "execution_count": 5,
   "id": "5675fd15",
   "metadata": {},
   "outputs": [],
   "source": [
    "DATA_DIR = Path(\"../data/processed\")\n",
    "MODEL_DIR = Path(\"../models\"); MODEL_DIR.mkdir(parents=True, exist_ok=True)\n",
    "\n",
    "STRICT_PARQUET   = DATA_DIR / \"model_strict.parquet\"\n",
    "COMBINED_PARQUET = DATA_DIR / \"model_combined.parquet\"\n",
    "STRICT_CSV       = DATA_DIR / \"model_strict.csv\"\n",
    "COMBINED_CSV     = DATA_DIR / \"model_combined.csv\""
   ]
  },
  {
   "cell_type": "markdown",
   "id": "16525bec",
   "metadata": {},
   "source": [
    "5. Choose dataset here: \"strict\" (default) or \"combined\""
   ]
  },
  {
   "cell_type": "code",
   "execution_count": 6,
   "id": "530e3ad9",
   "metadata": {},
   "outputs": [],
   "source": [
    "DATASET_CHOICE = \"strict\"\n",
    "PREFERRED_ENGINE = \"fastparquet\"  # or \"pyarrow\" if you resolved it"
   ]
  },
  {
   "cell_type": "markdown",
   "id": "bab535af",
   "metadata": {},
   "source": [
    "6. Load data (robust to CSV/Parquet)"
   ]
  },
  {
   "cell_type": "code",
   "execution_count": 7,
   "id": "0c02f7dd",
   "metadata": {},
   "outputs": [
    {
     "name": "stdout",
     "output_type": "stream",
     "text": [
      "Loaded 'strict' model table: (3067, 37)\n"
     ]
    },
    {
     "data": {
      "text/html": [
       "<div>\n",
       "<style scoped>\n",
       "    .dataframe tbody tr th:only-of-type {\n",
       "        vertical-align: middle;\n",
       "    }\n",
       "\n",
       "    .dataframe tbody tr th {\n",
       "        vertical-align: top;\n",
       "    }\n",
       "\n",
       "    .dataframe thead th {\n",
       "        text-align: right;\n",
       "    }\n",
       "</style>\n",
       "<table border=\"1\" class=\"dataframe\">\n",
       "  <thead>\n",
       "    <tr style=\"text-align: right;\">\n",
       "      <th></th>\n",
       "      <th>imdb_score</th>\n",
       "      <th>imdb_votes</th>\n",
       "      <th>imdb_votes_log1p</th>\n",
       "      <th>runtime</th>\n",
       "      <th>duration_minutes</th>\n",
       "      <th>release_year</th>\n",
       "      <th>desc_len</th>\n",
       "      <th>num_genres</th>\n",
       "      <th>is_show</th>\n",
       "      <th>is_classic</th>\n",
       "      <th>...</th>\n",
       "      <th>ctry_India</th>\n",
       "      <th>ctry_Japan</th>\n",
       "      <th>ctry_Nigeria</th>\n",
       "      <th>ctry_Other</th>\n",
       "      <th>ctry_Philippines</th>\n",
       "      <th>ctry_South Korea</th>\n",
       "      <th>ctry_Spain</th>\n",
       "      <th>ctry_United Kingdom</th>\n",
       "      <th>ctry_United States</th>\n",
       "      <th>ctry_Unknown</th>\n",
       "    </tr>\n",
       "  </thead>\n",
       "  <tbody>\n",
       "    <tr>\n",
       "      <th>0</th>\n",
       "      <td>8.2</td>\n",
       "      <td>530877</td>\n",
       "      <td>13.182288</td>\n",
       "      <td>91</td>\n",
       "      <td>92</td>\n",
       "      <td>1975</td>\n",
       "      <td>415</td>\n",
       "      <td>3</td>\n",
       "      <td>0</td>\n",
       "      <td>1</td>\n",
       "      <td>...</td>\n",
       "      <td>0</td>\n",
       "      <td>0</td>\n",
       "      <td>0</td>\n",
       "      <td>0</td>\n",
       "      <td>0</td>\n",
       "      <td>0</td>\n",
       "      <td>0</td>\n",
       "      <td>1</td>\n",
       "      <td>0</td>\n",
       "      <td>0</td>\n",
       "    </tr>\n",
       "    <tr>\n",
       "      <th>1</th>\n",
       "      <td>7.8</td>\n",
       "      <td>94121</td>\n",
       "      <td>11.452347</td>\n",
       "      <td>170</td>\n",
       "      <td>173</td>\n",
       "      <td>1964</td>\n",
       "      <td>121</td>\n",
       "      <td>2</td>\n",
       "      <td>0</td>\n",
       "      <td>1</td>\n",
       "      <td>...</td>\n",
       "      <td>0</td>\n",
       "      <td>0</td>\n",
       "      <td>0</td>\n",
       "      <td>0</td>\n",
       "      <td>0</td>\n",
       "      <td>0</td>\n",
       "      <td>0</td>\n",
       "      <td>0</td>\n",
       "      <td>1</td>\n",
       "      <td>0</td>\n",
       "    </tr>\n",
       "    <tr>\n",
       "      <th>2</th>\n",
       "      <td>5.8</td>\n",
       "      <td>69053</td>\n",
       "      <td>11.142644</td>\n",
       "      <td>104</td>\n",
       "      <td>105</td>\n",
       "      <td>1980</td>\n",
       "      <td>347</td>\n",
       "      <td>2</td>\n",
       "      <td>0</td>\n",
       "      <td>1</td>\n",
       "      <td>...</td>\n",
       "      <td>0</td>\n",
       "      <td>0</td>\n",
       "      <td>0</td>\n",
       "      <td>0</td>\n",
       "      <td>0</td>\n",
       "      <td>0</td>\n",
       "      <td>0</td>\n",
       "      <td>0</td>\n",
       "      <td>1</td>\n",
       "      <td>0</td>\n",
       "    </tr>\n",
       "  </tbody>\n",
       "</table>\n",
       "<p>3 rows × 37 columns</p>\n",
       "</div>"
      ],
      "text/plain": [
       "   imdb_score  imdb_votes  imdb_votes_log1p  runtime  duration_minutes  \\\n",
       "0         8.2      530877         13.182288       91                92   \n",
       "1         7.8       94121         11.452347      170               173   \n",
       "2         5.8       69053         11.142644      104               105   \n",
       "\n",
       "   release_year  desc_len  num_genres  is_show  is_classic  ... ctry_India  \\\n",
       "0          1975       415           3        0           1  ...          0   \n",
       "1          1964       121           2        0           1  ...          0   \n",
       "2          1980       347           2        0           1  ...          0   \n",
       "\n",
       "  ctry_Japan  ctry_Nigeria  ctry_Other  ctry_Philippines  ctry_South Korea  \\\n",
       "0          0             0           0                 0                 0   \n",
       "1          0             0           0                 0                 0   \n",
       "2          0             0           0                 0                 0   \n",
       "\n",
       "   ctry_Spain  ctry_United Kingdom  ctry_United States  ctry_Unknown  \n",
       "0           0                    1                   0             0  \n",
       "1           0                    0                   1             0  \n",
       "2           0                    0                   1             0  \n",
       "\n",
       "[3 rows x 37 columns]"
      ]
     },
     "metadata": {},
     "output_type": "display_data"
    }
   ],
   "source": [
    "# 1) Load data (robust)\n",
    "def load_model_table(which: str):\n",
    "    assert which in {\"strict\", \"combined\"}\n",
    "    pq = STRICT_PARQUET if which == \"strict\" else COMBINED_PARQUET\n",
    "    csv = STRICT_CSV if which == \"strict\" else COMBINED_CSV\n",
    "\n",
    "    if pq.exists():\n",
    "        try:\n",
    "            return pd.read_parquet(pq, engine=\"fastparquet\")\n",
    "        except Exception as e:\n",
    "            print(f\"[warn] parquet load failed ({e}); falling back to CSV.\")\n",
    "\n",
    "    return pd.read_csv(csv)\n",
    "\n",
    "df = load_model_table(DATASET_CHOICE)\n",
    "print(f\"Loaded '{DATASET_CHOICE}' model table:\", df.shape)\n",
    "display(df.head(3))"
   ]
  },
  {
   "cell_type": "markdown",
   "id": "c85c231c",
   "metadata": {},
   "source": [
    "7. Define target & features (auto-detect categoricals)"
   ]
  },
  {
   "cell_type": "code",
   "execution_count": 8,
   "id": "d7e9e846",
   "metadata": {},
   "outputs": [
    {
     "name": "stdout",
     "output_type": "stream",
     "text": [
      "Numeric features: ['imdb_votes', 'imdb_votes_log1p', 'duration_minutes', 'release_year', 'desc_len', 'num_genres', 'is_show', 'is_classic']\n",
      "Categorical features: ['type', 'age_G', 'age_Other', 'age_PG', 'age_PG-13', 'age_R', 'age_TV-14', 'age_TV-G', 'age_TV-MA', 'age_TV-PG', 'age_TV-Y', 'age_TV-Y7', 'age_Unknown', 'ctry_Canada', 'ctry_France', 'ctry_India', 'ctry_Japan', 'ctry_Nigeria', 'ctry_Other', 'ctry_Philippines', 'ctry_South Korea', 'ctry_Spain', 'ctry_United Kingdom', 'ctry_United States', 'ctry_Unknown']\n",
      "X shape: (3067, 33) | y shape: (3067,)\n"
     ]
    }
   ],
   "source": [
    "# 2) Target & features\n",
    "TARGET = \"imdb_score\"\n",
    "\n",
    "# Drop obvious non-features if present\n",
    "drop_if_exists = {\"title\", \"id\", \"imdb_id\", \"description\", \"is_high\"}\n",
    "feature_df = df.drop(columns=[c for c in drop_if_exists if c in df.columns])\n",
    "\n",
    "X = feature_df.drop(columns=[TARGET])\n",
    "y = feature_df[TARGET].astype(float)\n",
    "\n",
    "# Identify numeric & categorical columns\n",
    "numeric_cols = X.select_dtypes(include=[\"int64\",\"float64\",\"int32\",\"float32\",\"Int64\",\"Float64\"]).columns.tolist()\n",
    "categorical_cols = X.select_dtypes(include=[\"object\",\"string\",\"category\",\"bool\",\"boolean\",\"UInt8\",\"Int8\"]).columns.tolist()\n",
    "\n",
    "# If both runtime and duration_minutes exist, keep duration_minutes and drop runtime (avoid leakage/duplication)\n",
    "if \"duration_minutes\" in numeric_cols and \"runtime\" in numeric_cols:\n",
    "    X = X.drop(columns=[\"runtime\"])\n",
    "    numeric_cols.remove(\"runtime\")\n",
    "\n",
    "print(\"Numeric features:\", numeric_cols)\n",
    "print(\"Categorical features:\", categorical_cols)\n",
    "print(\"X shape:\", X.shape, \"| y shape:\", y.shape)"
   ]
  },
  {
   "cell_type": "markdown",
   "id": "6e02d121",
   "metadata": {},
   "source": [
    "8. Train/Validation/Test split"
   ]
  },
  {
   "cell_type": "code",
   "execution_count": 9,
   "id": "0e55ab89",
   "metadata": {},
   "outputs": [
    {
     "name": "stdout",
     "output_type": "stream",
     "text": [
      "Train: (2146, 33) Valid: (460, 33) Test: (461, 33)\n"
     ]
    }
   ],
   "source": [
    "# 3) Split\n",
    "X_train, X_temp, y_train, y_temp = train_test_split(\n",
    "    X, y, test_size=0.30, random_state=RANDOM_STATE\n",
    ")\n",
    "X_valid, X_test, y_valid, y_test = train_test_split(\n",
    "    X_temp, y_temp, test_size=0.50, random_state=RANDOM_STATE\n",
    ")  # 70/15/15\n",
    "print(\"Train:\", X_train.shape, \"Valid:\", X_valid.shape, \"Test:\", X_test.shape)"
   ]
  },
  {
   "cell_type": "markdown",
   "id": "9d155bd0",
   "metadata": {},
   "source": [
    "9. Preprocessing & models"
   ]
  },
  {
   "cell_type": "code",
   "execution_count": 10,
   "id": "babb44ed",
   "metadata": {},
   "outputs": [],
   "source": [
    "# 4) Preprocessing\n",
    "numeric_tf = Pipeline(steps=[\n",
    "    (\"scaler\", StandardScaler(with_mean=True, with_std=True))\n",
    "])\n",
    "\n",
    "categorical_tf = Pipeline(steps=[\n",
    "    (\"onehot\", OneHotEncoder(handle_unknown=\"ignore\", sparse_output=False))\n",
    "])\n",
    "\n",
    "preprocess = ColumnTransformer(\n",
    "    transformers=[\n",
    "        (\"num\", numeric_tf, numeric_cols),\n",
    "        (\"cat\", categorical_tf, categorical_cols),\n",
    "    ],\n",
    "    remainder=\"drop\"\n",
    ")\n",
    "\n",
    "# Baseline models\n",
    "models = {\n",
    "    \"LinearRegression\": LinearRegression(n_jobs=None),\n",
    "    \"Ridge(alpha=1.0)\": Ridge(alpha=1.0, random_state=RANDOM_STATE),\n",
    "    \"RandomForest(200)\": RandomForestRegressor(\n",
    "        n_estimators=200, random_state=RANDOM_STATE, n_jobs=-1,\n",
    "        max_depth=None, min_samples_leaf=1\n",
    "    )\n",
    "}"
   ]
  },
  {
   "cell_type": "markdown",
   "id": "2a411ba9",
   "metadata": {},
   "source": [
    "10. Train, evaluate, and collect metrics"
   ]
  },
  {
   "cell_type": "code",
   "execution_count": 11,
   "id": "ae637a5b",
   "metadata": {},
   "outputs": [
    {
     "name": "stdout",
     "output_type": "stream",
     "text": [
      "\n",
      "Validation Results:\n",
      "               Model    MAE   RMSE     R2\n",
      "0  RandomForest(200)  0.737  0.984  0.231\n",
      "1   Ridge(alpha=1.0)  0.772  1.022  0.170\n",
      "2   LinearRegression  0.772  1.022  0.170\n"
     ]
    },
    {
     "data": {
      "text/html": [
       "<div>\n",
       "<style scoped>\n",
       "    .dataframe tbody tr th:only-of-type {\n",
       "        vertical-align: middle;\n",
       "    }\n",
       "\n",
       "    .dataframe tbody tr th {\n",
       "        vertical-align: top;\n",
       "    }\n",
       "\n",
       "    .dataframe thead th {\n",
       "        text-align: right;\n",
       "    }\n",
       "</style>\n",
       "<table border=\"1\" class=\"dataframe\">\n",
       "  <thead>\n",
       "    <tr style=\"text-align: right;\">\n",
       "      <th></th>\n",
       "      <th>Model</th>\n",
       "      <th>MAE</th>\n",
       "      <th>RMSE</th>\n",
       "      <th>R2</th>\n",
       "    </tr>\n",
       "  </thead>\n",
       "  <tbody>\n",
       "    <tr>\n",
       "      <th>0</th>\n",
       "      <td>RandomForest(200)</td>\n",
       "      <td>0.736850</td>\n",
       "      <td>0.983546</td>\n",
       "      <td>0.230796</td>\n",
       "    </tr>\n",
       "    <tr>\n",
       "      <th>1</th>\n",
       "      <td>Ridge(alpha=1.0)</td>\n",
       "      <td>0.771550</td>\n",
       "      <td>1.021577</td>\n",
       "      <td>0.170160</td>\n",
       "    </tr>\n",
       "    <tr>\n",
       "      <th>2</th>\n",
       "      <td>LinearRegression</td>\n",
       "      <td>0.771927</td>\n",
       "      <td>1.021973</td>\n",
       "      <td>0.169517</td>\n",
       "    </tr>\n",
       "  </tbody>\n",
       "</table>\n",
       "</div>"
      ],
      "text/plain": [
       "               Model       MAE      RMSE        R2\n",
       "0  RandomForest(200)  0.736850  0.983546  0.230796\n",
       "1   Ridge(alpha=1.0)  0.771550  1.021577  0.170160\n",
       "2   LinearRegression  0.771927  1.021973  0.169517"
      ]
     },
     "metadata": {},
     "output_type": "display_data"
    }
   ],
   "source": [
    "# 5) Train & evaluate\n",
    "def rmse(y_true, y_pred): \n",
    "    return np.sqrt(mean_squared_error(y_true, y_pred))\n",
    "\n",
    "def eval_model(name, est, X_tr, y_tr, X_va, y_va):\n",
    "    pipe = Pipeline(steps=[(\"prep\", preprocess), (\"model\", est)])\n",
    "    pipe.fit(X_tr, y_tr)\n",
    "    pred_va = pipe.predict(X_va)\n",
    "    return {\n",
    "        \"Model\": name,\n",
    "        \"MAE\": mean_absolute_error(y_va, pred_va),\n",
    "        \"RMSE\": rmse(y_va, pred_va),\n",
    "        \"R2\": r2_score(y_va, pred_va),\n",
    "        \"Pipeline\": pipe\n",
    "    }\n",
    "\n",
    "results = [eval_model(name, est, X_train, y_train, X_valid, y_valid) \n",
    "           for name, est in models.items()]\n",
    "\n",
    "results_df = pd.DataFrame([{k:v for k,v in r.items() if k != \"Pipeline\"} for r in results])\n",
    "results_df = results_df.sort_values(\"RMSE\", ascending=True).reset_index(drop=True)\n",
    "\n",
    "print(\"\\nValidation Results:\")\n",
    "print(results_df[[\"Model\", \"MAE\", \"RMSE\", \"R2\"]].round(3))\n",
    "display(results_df)"
   ]
  },
  {
   "cell_type": "code",
   "execution_count": 12,
   "id": "f8fe8340",
   "metadata": {},
   "outputs": [],
   "source": [
    "# Store pipelines keyed by model name\n",
    "trained_pipelines = {r[\"Model\"]: r[\"Pipeline\"] for r in results}"
   ]
  },
  {
   "cell_type": "markdown",
   "id": "1cc4c49a",
   "metadata": {},
   "source": [
    "11. Select top model(s)"
   ]
  },
  {
   "cell_type": "code",
   "execution_count": 13,
   "id": "9c658b36",
   "metadata": {},
   "outputs": [
    {
     "name": "stdout",
     "output_type": "stream",
     "text": [
      "\n",
      "Top models: ['RandomForest(200)', 'Ridge(alpha=1.0)']\n"
     ]
    }
   ],
   "source": [
    "top_models = results_df.head(2)[\"Model\"].tolist()\n",
    "print(\"\\nTop models:\", top_models)"
   ]
  },
  {
   "cell_type": "markdown",
   "id": "3bd28a53",
   "metadata": {},
   "source": [
    "12. Retrain on Train+Valid"
   ]
  },
  {
   "cell_type": "code",
   "execution_count": 14,
   "id": "9f3fc044",
   "metadata": {},
   "outputs": [
    {
     "name": "stdout",
     "output_type": "stream",
     "text": [
      "[ok] Retrained RandomForest(200) on Train+Valid.\n",
      "[ok] Retrained Ridge(alpha=1.0) on Train+Valid.\n"
     ]
    }
   ],
   "source": [
    "X_train_full = pd.concat([X_train, X_valid], axis=0)\n",
    "y_train_full = pd.concat([y_train, y_valid], axis=0)\n",
    "\n",
    "final_models = {}\n",
    "for name in top_models:\n",
    "    est = models[name.split(\"(\")[0]] if \"(\" not in name else models[name]  # handle exact match\n",
    "    pipe = Pipeline(steps=[(\"prep\", preprocess), (\"model\", est)])\n",
    "    pipe.fit(X_train_full, y_train_full)\n",
    "    final_models[name] = pipe\n",
    "    print(f\"[ok] Retrained {name} on Train+Valid.\")"
   ]
  },
  {
   "cell_type": "markdown",
   "id": "482c96e1",
   "metadata": {},
   "source": [
    "13. Final Test Evaluation"
   ]
  },
  {
   "cell_type": "code",
   "execution_count": 17,
   "id": "23be8c5c",
   "metadata": {},
   "outputs": [
    {
     "name": "stdout",
     "output_type": "stream",
     "text": [
      "\n",
      "Final Test Set Performance:\n",
      "               Model    MAE   RMSE     R2\n",
      "0  RandomForest(200)  0.754  0.978  0.254\n",
      "1   Ridge(alpha=1.0)  0.797  1.028  0.177\n"
     ]
    },
    {
     "data": {
      "text/html": [
       "<div>\n",
       "<style scoped>\n",
       "    .dataframe tbody tr th:only-of-type {\n",
       "        vertical-align: middle;\n",
       "    }\n",
       "\n",
       "    .dataframe tbody tr th {\n",
       "        vertical-align: top;\n",
       "    }\n",
       "\n",
       "    .dataframe thead th {\n",
       "        text-align: right;\n",
       "    }\n",
       "</style>\n",
       "<table border=\"1\" class=\"dataframe\">\n",
       "  <thead>\n",
       "    <tr style=\"text-align: right;\">\n",
       "      <th></th>\n",
       "      <th>Model</th>\n",
       "      <th>MAE</th>\n",
       "      <th>RMSE</th>\n",
       "      <th>R2</th>\n",
       "    </tr>\n",
       "  </thead>\n",
       "  <tbody>\n",
       "    <tr>\n",
       "      <th>0</th>\n",
       "      <td>RandomForest(200)</td>\n",
       "      <td>0.753838</td>\n",
       "      <td>0.978115</td>\n",
       "      <td>0.254318</td>\n",
       "    </tr>\n",
       "    <tr>\n",
       "      <th>1</th>\n",
       "      <td>Ridge(alpha=1.0)</td>\n",
       "      <td>0.796734</td>\n",
       "      <td>1.027500</td>\n",
       "      <td>0.177118</td>\n",
       "    </tr>\n",
       "  </tbody>\n",
       "</table>\n",
       "</div>"
      ],
      "text/plain": [
       "               Model       MAE      RMSE        R2\n",
       "0  RandomForest(200)  0.753838  0.978115  0.254318\n",
       "1   Ridge(alpha=1.0)  0.796734  1.027500  0.177118"
      ]
     },
     "metadata": {},
     "output_type": "display_data"
    },
    {
     "data": {
      "image/png": "[encoded data removed]",
      "text/plain": [
       "<Figure size 750x450 with 1 Axes>"
      ]
     },
     "metadata": {},
     "output_type": "display_data"
    },
    {
     "name": "stdout",
     "output_type": "stream",
     "text": [
      "\n",
      "Generalization summary (Δ = Test RMSE − Valid RMSE):\n",
      " - RandomForest(200): Valid 0.984 → Test 0.978  Δ=-0.005 (≈ stable)\n",
      " - Ridge(alpha=1.0): Valid 1.022 → Test 1.028  Δ=+0.006 (≈ stable)\n",
      "[ok] Saved RandomForest(200) → ../models/RandomForest_200_.joblib (overwrites if existed)\n",
      "[ok] Saved Ridge(alpha=1.0) → ../models/Ridge_alpha_1_0_.joblib (overwrites if existed)\n",
      "[ok] Saved feature lists → ../artifacts/features_used.json\n",
      "[ok] Wrote registry → ../artifacts/model_registry.json\n"
     ]
    }
   ],
   "source": [
    "# --- Final test evaluation + plot + save ---\n",
    "import os, json, re, time\n",
    "from pathlib import Path\n",
    "\n",
    "import numpy as np\n",
    "import pandas as pd\n",
    "import matplotlib.pyplot as plt\n",
    "import joblib\n",
    "from sklearn.metrics import mean_absolute_error, mean_squared_error, r2_score\n",
    "\n",
    "# 1) Evaluate retrained models on the held-out test set\n",
    "final_results = []\n",
    "for name, pipe in final_models.items():  # <- must contain retrained (train+valid) pipelines\n",
    "    y_hat = pipe.predict(X_test)\n",
    "    final_results.append({\n",
    "        \"Model\": name,\n",
    "        \"MAE\": mean_absolute_error(y_test, y_hat),\n",
    "        \"RMSE\": np.sqrt(mean_squared_error(y_test, y_hat)),\n",
    "        \"R2\": r2_score(y_test, y_hat)\n",
    "    })\n",
    "\n",
    "final_df = pd.DataFrame(final_results).sort_values(\"RMSE\", ascending=True)\n",
    "print(\"\\nFinal Test Set Performance:\")\n",
    "print(final_df.round(3))\n",
    "display(final_df)\n",
    "\n",
    "# 2) Bar chart: Validation vs Test RMSE (legend below, values on bars)\n",
    "#    We expect `results_df` from the validation step to exist.\n",
    "valid_rmse_lookup = dict(zip(results_df[\"Model\"], results_df[\"RMSE\"]))\n",
    "\n",
    "plot_rows = []\n",
    "for _, row in final_df.iterrows():\n",
    "    m = row[\"Model\"]\n",
    "    plot_rows.append({\n",
    "        \"Model\": m,\n",
    "        \"Valid_RMSE\": float(valid_rmse_lookup.get(m, np.nan)),\n",
    "        \"Test_RMSE\": float(row[\"RMSE\"])\n",
    "    })\n",
    "plot_df = pd.DataFrame(plot_rows)\n",
    "\n",
    "plt.figure(figsize=(7.5, 4.5))\n",
    "x = np.arange(len(plot_df))\n",
    "w = 0.35\n",
    "\n",
    "bars_valid = plt.bar(x - w/2, plot_df[\"Valid_RMSE\"], width=w, label=\"Valid RMSE\")\n",
    "bars_test  = plt.bar(x + w/2, plot_df[\"Test_RMSE\"],  width=w, label=\"Test RMSE\")\n",
    "\n",
    "plt.xticks(x, plot_df[\"Model\"], rotation=15, ha=\"right\")\n",
    "plt.ylabel(\"RMSE\")\n",
    "plt.title(\"Validation vs Test RMSE (Final Models)\")\n",
    "\n",
    "# Legend below the plot\n",
    "plt.legend(loc=\"lower center\", bbox_to_anchor=(0.5, -0.3), ncol=2, frameon=False)\n",
    "\n",
    "# Annotate values on bars\n",
    "def _annotate(bars):\n",
    "    for b in bars:\n",
    "        h = b.get_height()\n",
    "        plt.text(\n",
    "            b.get_x() + b.get_width()/2, h,\n",
    "            f\"{h:.3f}\",\n",
    "            ha=\"center\", va=\"bottom\", fontsize=9\n",
    "        )\n",
    "_annotate(bars_valid)\n",
    "_annotate(bars_test)\n",
    "\n",
    "plt.tight_layout()\n",
    "plt.show()\n",
    "\n",
    "# 3) Generalization summary (Δ = Test RMSE − Valid RMSE)\n",
    "print(\"\\nGeneralization summary (Δ = Test RMSE − Valid RMSE):\")\n",
    "for _, r in plot_df.iterrows():\n",
    "    delta = r[\"Test_RMSE\"] - r[\"Valid_RMSE\"]\n",
    "    trend = \"↑ worse\" if delta > 0.02 else (\"↓ better\" if delta < -0.02 else \"≈ stable\")\n",
    "    print(f\" - {r['Model']}: Valid {r['Valid_RMSE']:.3f} → Test {r['Test_RMSE']:.3f}  Δ={delta:+.3f} ({trend})\")\n",
    "\n",
    "# 4) Save fitted pipelines (overwrite if they already exist)\n",
    "models_dir = Path(\"../models\"); models_dir.mkdir(parents=True, exist_ok=True)\n",
    "saved_paths = {}\n",
    "\n",
    "for name, pipe in final_models.items():\n",
    "    safe = re.sub(r\"[^A-Za-z0-9_]+\", \"_\", name)\n",
    "    model_path = models_dir / f\"{safe}.joblib\"\n",
    "    joblib.dump(pipe, model_path)\n",
    "    saved_paths[name] = str(model_path)\n",
    "    print(f\"[ok] Saved {name} → {model_path} (overwrites if existed)\")\n",
    "\n",
    "# 5) Persist feature lists (for later inference)\n",
    "artifacts_dir = Path(\"../artifacts\"); artifacts_dir.mkdir(parents=True, exist_ok=True)\n",
    "feat_path = artifacts_dir / \"features_used.json\"\n",
    "with open(feat_path, \"w\") as f:\n",
    "    json.dump({\n",
    "        \"numeric_cols\": numeric_cols,\n",
    "        \"categorical_cols\": categorical_cols,\n",
    "        \"target\": TARGET\n",
    "    }, f, indent=2)\n",
    "print(f\"[ok] Saved feature lists → {feat_path}\")\n",
    "\n",
    "# 6) Registry/manifest\n",
    "registry = {\n",
    "    \"timestamp\": time.strftime(\"%Y-%m-%d %H:%M:%S\"),\n",
    "    \"dataset\": DATASET_CHOICE,  # 'strict' or 'combined'\n",
    "    \"split\": {\"train\": len(X_train), \"valid\": len(X_valid), \"test\": len(X_test)},\n",
    "    \"final_metrics\": final_df.to_dict(orient=\"records\"),\n",
    "    \"saved_models\": saved_paths\n",
    "}\n",
    "registry_path = artifacts_dir / \"model_registry.json\"\n",
    "with open(registry_path, \"w\") as f:\n",
    "    json.dump(registry, f, indent=2)\n",
    "print(f\"[ok] Wrote registry → {registry_path}\")"
   ]
  },
  {
   "cell_type": "code",
   "execution_count": 18,
   "id": "711ab984",
   "metadata": {},
   "outputs": [
    {
     "name": "stdout",
     "output_type": "stream",
     "text": [
      "\n",
      "--- Generalization Summary ---\n",
      "The top-performing model, RandomForest(200), achieved the best performance on both validation and test sets.\n",
      "Validation RMSE: 0.978 | Test RMSE: 0.978\n",
      "The performance gap between validation and test is small, suggesting good generalization.\n",
      "Ridge(alpha=1.0) had slightly higher error but is still competitive, and may be preferable if model simplicity is a priority.\n"
     ]
    }
   ],
   "source": [
    "print(\"\\n--- Generalization Summary ---\")\n",
    "print(\"The top-performing model, RandomForest(200), achieved the best performance on both validation and test sets.\")\n",
    "print(\"Validation RMSE: {:.3f} | Test RMSE: {:.3f}\".format(\n",
    "    final_df.loc[final_df['Model'] == 'RandomForest(200)', 'RMSE'].values[0],\n",
    "    final_df.loc[final_df['Model'] == 'RandomForest(200)', 'RMSE'].values[0]\n",
    "))\n",
    "print(\"The performance gap between validation and test is small, suggesting good generalization.\")\n",
    "print(\"Ridge(alpha=1.0) had slightly higher error but is still competitive, and may be preferable if model simplicity is a priority.\")"
   ]
  }
 ],
 "metadata": {
  "kernelspec": {
   "display_name": "netflix-imdb",
   "language": "python",
   "name": "python3"
  },
  "language_info": {
   "codemirror_mode": {
    "name": "ipython",
    "version": 3
   },
   "file_extension": ".py",
   "mimetype": "text/x-python",
   "name": "python",
   "nbconvert_exporter": "python",
   "pygments_lexer": "ipython3",
   "version": "3.11.13"
  }
 },
 "nbformat": 4,
 "nbformat_minor": 5
}
