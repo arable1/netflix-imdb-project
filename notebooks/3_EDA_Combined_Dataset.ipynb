{
 "cells": [
  {
   "cell_type": "markdown",
   "id": "dc1930d2",
   "metadata": {},
   "source": [
    "# EDA — Combined Dataset (Strict then Loose)\n",
    "\n",
    "**Inputs**\n",
    "- `../data/processed/netflix_strict_clean.csv` (from Notebook 2)\n",
    "- `../data/processed/netflix_merged_strict_then_loose.csv` (from Notebook 1)\n",
    "\n",
    "**Goal**\n",
    "- Start from the *clean strict* set as the gold standard.\n",
    "- Compare against the *strict+loose* merged set to see if added metadata (director/country/genres) changes patterns.\n",
    "- Decide which dataset to carry into modeling (regression/classification).\n",
    "\n",
    "**Notes**\n",
    "- “Loose” joins (title only) can introduce noise; we’ll inspect deltas and keep safeguards."
   ]
  },
  {
   "cell_type": "markdown",
   "id": "f3679851",
   "metadata": {},
   "source": [
    "## Cleaning & Feature Engineering Plan for Combined Dataset\n",
    "\n",
    "- Load: `../data/processed/netflix_merged_strict_then_loose.csv`\n",
    "- Light noise cleanup (e.g., `rating`, `duration`)\n",
    "- Engineer features:\n",
    "    - `duration_minutes` (numeric duration)\n",
    "    - `is_show` (binary flag from type)\n",
    "    - `is_classic` (release year < 2000)\n",
    "    - `desc_len` (description length)\n",
    "    - `num_genres` (count from `listed_in`)\n",
    "    - `imdb_votes_log1p` (log1p transform of votes)\n",
    "- Save cleaned dataset to: `../data/processed/netflix_combined_clean.csv`\n",
    "- Save manifest to: `../data/interim/netflix_combined_manifest.json`"
   ]
  },
  {
   "cell_type": "markdown",
   "id": "f55a9c6b",
   "metadata": {},
   "source": [
    "1. Import libraries"
   ]
  },
  {
   "cell_type": "code",
   "execution_count": 10,
   "id": "980f8014",
   "metadata": {},
   "outputs": [],
   "source": [
    "from pathlib import Path\n",
    "import json\n",
    "import numpy as np\n",
    "import pandas as pd\n",
    "from datetime import datetime"
   ]
  },
  {
   "cell_type": "markdown",
   "id": "419662b8",
   "metadata": {},
   "source": [
    "2. Paths"
   ]
  },
  {
   "cell_type": "code",
   "execution_count": 2,
   "id": "18945571",
   "metadata": {},
   "outputs": [],
   "source": [
    "PROCESSED_DIR = Path(\"../data/processed\")\n",
    "INTERIM_DIR   = Path(\"../data/interim\")\n",
    "\n",
    "STRICT_CLEAN_CSV  = PROCESSED_DIR / \"netflix_strict_clean.csv\"\n",
    "COMBINED_RAW_CSV      = PROCESSED_DIR / \"netflix_merged_strict_then_loose.csv\"\n",
    "STRICT_MANIFEST   = PROCESSED_DIR / \"netflix_strict_clean.manifest.json\"\n",
    "\n",
    "COMBINED_CLEAN_CSV = PROCESSED_DIR / \"netflix_combined_clean.csv\"\n",
    "COMBINED_MANIFEST  = INTERIM_DIR / \"netflix_combined_manifest.json\"\n",
    "\n",
    "# Create dirs if missing\n",
    "PROCESSED_DIR.mkdir(parents=True, exist_ok=True)\n",
    "INTERIM_DIR.mkdir(parents=True, exist_ok=True)"
   ]
  },
  {
   "cell_type": "markdown",
   "id": "22aa7b19",
   "metadata": {},
   "source": [
    "3. Load strict clean"
   ]
  },
  {
   "cell_type": "code",
   "execution_count": 3,
   "id": "a92bf7ba",
   "metadata": {},
   "outputs": [],
   "source": [
    "df_strict = pd.read_csv(STRICT_CLEAN_CSV)"
   ]
  },
  {
   "cell_type": "markdown",
   "id": "7a7339d2",
   "metadata": {},
   "source": [
    "4. Load combined (strict + loose). We’ll align columns on the fly when needed."
   ]
  },
  {
   "cell_type": "code",
   "execution_count": 7,
   "id": "329a367c",
   "metadata": {},
   "outputs": [],
   "source": [
    "df_combined_raw = pd.read_csv(COMBINED_RAW_CSV)"
   ]
  },
  {
   "cell_type": "markdown",
   "id": "670f91a6",
   "metadata": {},
   "source": [
    "5. Print shape for both strict and combined dataframes"
   ]
  },
  {
   "cell_type": "code",
   "execution_count": 8,
   "id": "1500df93",
   "metadata": {},
   "outputs": [
    {
     "name": "stdout",
     "output_type": "stream",
     "text": [
      "Strict clean shape:   (3067, 26)\n",
      "Combined raw shape:   (5283, 19)\n"
     ]
    }
   ],
   "source": [
    "print(f\"Strict clean shape:   {df_strict.shape}\")\n",
    "print(f\"Combined raw shape:   {df_combined_raw.shape}\")"
   ]
  },
  {
   "cell_type": "markdown",
   "id": "6cd2b08e",
   "metadata": {},
   "source": [
    "6. Optional: load manifest for quick context"
   ]
  },
  {
   "cell_type": "code",
   "execution_count": 11,
   "id": "35fa3725",
   "metadata": {},
   "outputs": [
    {
     "name": "stdout",
     "output_type": "stream",
     "text": [
      "Strict manifest: 3067 rows, 26 cols\n",
      "Strict clean shape: (3067, 26)\n",
      "Combined raw shape: (5283, 19)\n"
     ]
    }
   ],
   "source": [
    "try:\n",
    "    manifest = json.loads(Path(STRICT_MANIFEST).read_text())\n",
    "    print(\"Strict manifest:\", manifest[\"n_rows\"], \"rows,\", manifest[\"n_cols\"], \"cols\")\n",
    "except FileNotFoundError:\n",
    "    print(\"Manifest not found (ok). Proceeding.\")\n",
    "\n",
    "print(\"Strict clean shape:\", df_strict.shape)\n",
    "print(\"Combined raw shape:\", df_combined_raw.shape)"
   ]
  },
  {
   "cell_type": "markdown",
   "id": "d403ce2f",
   "metadata": {},
   "source": [
    "7. Helper cleaners/engineers (reuse the same logic as strict so features are comparable)"
   ]
  },
  {
   "cell_type": "code",
   "execution_count": 12,
   "id": "c9635055",
   "metadata": {},
   "outputs": [],
   "source": [
    "def clean_rating_series(s: pd.Series) -> pd.Series:\n",
    "    s = s.astype(str).str.strip()\n",
    "    # Fix common noise\n",
    "    replacements = {\n",
    "        \"84 min\": \"Unknown\",  # rating column sometimes polluted by duration text\n",
    "        \"nan\": \"Unknown\",\n",
    "        \"None\": \"Unknown\",\n",
    "        \"\": \"Unknown\"\n",
    "    }\n",
    "    return s.replace(replacements)"
   ]
  },
  {
   "cell_type": "code",
   "execution_count": 13,
   "id": "2110eef9",
   "metadata": {},
   "outputs": [],
   "source": [
    "def parse_duration_minutes(duration_series: pd.Series, fallback_runtime=None) -> pd.Series:\n",
    "    \"\"\"\n",
    "    Parse 'duration' like '92 min' or '3 Seasons' to minutes.\n",
    "    For seasons/episodes we leave NaN unless a fallback runtime is given.\n",
    "    \"\"\"\n",
    "    s = duration_series.astype(str).str.strip().str.lower()\n",
    "\n",
    "    # minutes (e.g., '92 min')\n",
    "    mins = s.str.extract(r'(\\d+)\\s*min', expand=False).astype(float)\n",
    "\n",
    "    # seasons/episodes -> NaN (unless you want a mapping)\n",
    "    # ex: '3 seasons', '8 episodes' -> leave NaN\n",
    "    # If fallback runtime exists (numeric), we can fill NaN with it\n",
    "    if fallback_runtime is not None and isinstance(fallback_runtime, pd.Series):\n",
    "        mins = mins.fillna(fallback_runtime.astype(float))\n",
    "    return mins"
   ]
  },
  {
   "cell_type": "code",
   "execution_count": 14,
   "id": "28cec2a0",
   "metadata": {},
   "outputs": [],
   "source": [
    "def engineer_common_features(df: pd.DataFrame) -> pd.DataFrame:\n",
    "    out = df.copy()\n",
    "\n",
    "    # Basic safety: ensure expected columns exist (create empty if missing)\n",
    "    for col in [\"description\",\"listed_in\",\"rating\",\"duration\",\"type\",\"release_year\",\"runtime\",\"imdb_votes\"]:\n",
    "        if col not in out.columns:\n",
    "            out[col] = np.nan\n",
    "\n",
    "    # Clean rating noise\n",
    "    out[\"rating\"] = clean_rating_series(out[\"rating\"])\n",
    "\n",
    "    # Duration minutes\n",
    "    out[\"duration_minutes\"] = parse_duration_minutes(out[\"duration\"], fallback_runtime=out.get(\"runtime\"))\n",
    "\n",
    "    # Binary flags\n",
    "    out[\"is_show\"]    = (out[\"type\"].astype(str).str.upper() == \"SHOW\").astype(int)\n",
    "    out[\"is_classic\"] = (out[\"release_year\"].astype(float) < 2000).astype(int)\n",
    "\n",
    "    # Text signals\n",
    "    out[\"desc_len\"]  = out[\"description\"].fillna(\"\").str.len()\n",
    "    out[\"num_genres\"] = out[\"listed_in\"].fillna(\"\").apply(lambda x: len([g.strip() for g in str(x).split(\",\") if g.strip()]))\n",
    "\n",
    "    # Votes transform\n",
    "    out[\"imdb_votes_log1p\"] = np.log1p(out[\"imdb_votes\"])\n",
    "\n",
    "    # Make a normalized title for joins/diagnostics if needed\n",
    "    if \"title\" in out.columns:\n",
    "        out[\"title_norm\"] = out[\"title\"].astype(str).str.strip().str.lower()\n",
    "\n",
    "    return out"
   ]
  },
  {
   "cell_type": "markdown",
   "id": "69741f77",
   "metadata": {},
   "source": [
    "8. Engineer features on combined (light cleanup + parity with strict)"
   ]
  },
  {
   "cell_type": "code",
   "execution_count": 15,
   "id": "52ae09b2",
   "metadata": {},
   "outputs": [],
   "source": [
    "combined = engineer_common_features(df_combined_raw)"
   ]
  },
  {
   "cell_type": "code",
   "execution_count": 17,
   "id": "6e0800c3",
   "metadata": {},
   "outputs": [
    {
     "name": "stdout",
     "output_type": "stream",
     "text": [
      "Combined engineered shape: (5283, 26)\n"
     ]
    },
    {
     "data": {
      "text/html": [
       "<div>\n",
       "<style scoped>\n",
       "    .dataframe tbody tr th:only-of-type {\n",
       "        vertical-align: middle;\n",
       "    }\n",
       "\n",
       "    .dataframe tbody tr th {\n",
       "        vertical-align: top;\n",
       "    }\n",
       "\n",
       "    .dataframe thead th {\n",
       "        text-align: right;\n",
       "    }\n",
       "</style>\n",
       "<table border=\"1\" class=\"dataframe\">\n",
       "  <thead>\n",
       "    <tr style=\"text-align: right;\">\n",
       "      <th></th>\n",
       "      <th>index</th>\n",
       "      <th>id</th>\n",
       "      <th>title</th>\n",
       "      <th>type</th>\n",
       "      <th>description</th>\n",
       "      <th>release_year</th>\n",
       "      <th>age_certification</th>\n",
       "      <th>runtime</th>\n",
       "      <th>imdb_id</th>\n",
       "      <th>imdb_score</th>\n",
       "      <th>...</th>\n",
       "      <th>date_added</th>\n",
       "      <th>rating</th>\n",
       "      <th>duration</th>\n",
       "      <th>listed_in</th>\n",
       "      <th>desc_len</th>\n",
       "      <th>duration_minutes</th>\n",
       "      <th>imdb_votes_log1p</th>\n",
       "      <th>is_show</th>\n",
       "      <th>is_classic</th>\n",
       "      <th>num_genres</th>\n",
       "    </tr>\n",
       "  </thead>\n",
       "  <tbody>\n",
       "    <tr>\n",
       "      <th>0</th>\n",
       "      <td>1</td>\n",
       "      <td>tm127384</td>\n",
       "      <td>Monty Python and the Holy Grail</td>\n",
       "      <td>MOVIE</td>\n",
       "      <td>King Arthur, accompanied by his squire, recrui...</td>\n",
       "      <td>1975</td>\n",
       "      <td>PG</td>\n",
       "      <td>91</td>\n",
       "      <td>tt0071853</td>\n",
       "      <td>8.2</td>\n",
       "      <td>...</td>\n",
       "      <td>January 2, 2019</td>\n",
       "      <td>PG</td>\n",
       "      <td>92 min</td>\n",
       "      <td>Action &amp; Adventure, Classic Movies, Comedies</td>\n",
       "      <td>415</td>\n",
       "      <td>92.0</td>\n",
       "      <td>13.182288</td>\n",
       "      <td>0</td>\n",
       "      <td>1</td>\n",
       "      <td>3</td>\n",
       "    </tr>\n",
       "    <tr>\n",
       "      <th>1</th>\n",
       "      <td>6</td>\n",
       "      <td>tm185072</td>\n",
       "      <td>My Fair Lady</td>\n",
       "      <td>MOVIE</td>\n",
       "      <td>A snobbish phonetics professor agrees to a wag...</td>\n",
       "      <td>1964</td>\n",
       "      <td>G</td>\n",
       "      <td>170</td>\n",
       "      <td>tt0058385</td>\n",
       "      <td>7.8</td>\n",
       "      <td>...</td>\n",
       "      <td>April 1, 2021</td>\n",
       "      <td>G</td>\n",
       "      <td>173 min</td>\n",
       "      <td>Classic Movies, Music &amp; Musicals</td>\n",
       "      <td>121</td>\n",
       "      <td>173.0</td>\n",
       "      <td>11.452347</td>\n",
       "      <td>0</td>\n",
       "      <td>1</td>\n",
       "      <td>2</td>\n",
       "    </tr>\n",
       "    <tr>\n",
       "      <th>2</th>\n",
       "      <td>7</td>\n",
       "      <td>tm98978</td>\n",
       "      <td>The Blue Lagoon</td>\n",
       "      <td>MOVIE</td>\n",
       "      <td>Two small children and a ship's cook survive a...</td>\n",
       "      <td>1980</td>\n",
       "      <td>R</td>\n",
       "      <td>104</td>\n",
       "      <td>tt0080453</td>\n",
       "      <td>5.8</td>\n",
       "      <td>...</td>\n",
       "      <td>September 1, 2021</td>\n",
       "      <td>R</td>\n",
       "      <td>105 min</td>\n",
       "      <td>Dramas, Romantic Movies</td>\n",
       "      <td>347</td>\n",
       "      <td>105.0</td>\n",
       "      <td>11.142644</td>\n",
       "      <td>0</td>\n",
       "      <td>1</td>\n",
       "      <td>2</td>\n",
       "    </tr>\n",
       "  </tbody>\n",
       "</table>\n",
       "<p>3 rows × 26 columns</p>\n",
       "</div>"
      ],
      "text/plain": [
       "   index        id                            title   type  \\\n",
       "0      1  tm127384  Monty Python and the Holy Grail  MOVIE   \n",
       "1      6  tm185072                     My Fair Lady  MOVIE   \n",
       "2      7   tm98978                  The Blue Lagoon  MOVIE   \n",
       "\n",
       "                                         description  release_year  \\\n",
       "0  King Arthur, accompanied by his squire, recrui...          1975   \n",
       "1  A snobbish phonetics professor agrees to a wag...          1964   \n",
       "2  Two small children and a ship's cook survive a...          1980   \n",
       "\n",
       "  age_certification  runtime    imdb_id  imdb_score  ...         date_added  \\\n",
       "0                PG       91  tt0071853         8.2  ...    January 2, 2019   \n",
       "1                 G      170  tt0058385         7.8  ...      April 1, 2021   \n",
       "2                 R      104  tt0080453         5.8  ...  September 1, 2021   \n",
       "\n",
       "  rating  duration                                     listed_in desc_len  \\\n",
       "0     PG    92 min  Action & Adventure, Classic Movies, Comedies      415   \n",
       "1      G   173 min              Classic Movies, Music & Musicals      121   \n",
       "2      R   105 min                       Dramas, Romantic Movies      347   \n",
       "\n",
       "  duration_minutes imdb_votes_log1p is_show is_classic num_genres  \n",
       "0             92.0        13.182288       0          1          3  \n",
       "1            173.0        11.452347       0          1          2  \n",
       "2            105.0        11.142644       0          1          2  \n",
       "\n",
       "[3 rows x 26 columns]"
      ]
     },
     "execution_count": 17,
     "metadata": {},
     "output_type": "execute_result"
    }
   ],
   "source": [
    "# For the combined set, keep the same core columns you used in strict clean\n",
    "# (fallback if some are missing in combined)\n",
    "strict_cols = list(df_strict.columns)\n",
    "for col in strict_cols:\n",
    "    if col not in combined.columns:\n",
    "        combined[col] = np.nan\n",
    "\n",
    "# Reorder combined to match strict column order (for easier side-by-side work later)\n",
    "combined = combined[strict_cols]\n",
    "\n",
    "print(\"Combined engineered shape:\", combined.shape)\n",
    "combined.head(3)"
   ]
  },
  {
   "cell_type": "markdown",
   "id": "15e208e9",
   "metadata": {},
   "source": [
    "9. Quick sanity checks vs strict"
   ]
  },
  {
   "cell_type": "code",
   "execution_count": 19,
   "id": "bd289f99",
   "metadata": {},
   "outputs": [
    {
     "name": "stdout",
     "output_type": "stream",
     "text": [
      "Strict titles found in combined by (title, release_year):\n",
      "_merge\n",
      "both          3067\n",
      "left_only        0\n",
      "right_only       0\n",
      "Name: count, dtype: int64 \n",
      "\n",
      "Null checks in combined (top 10):\n",
      "join_year            5283\n",
      "director             2754\n",
      "age_certification    2285\n",
      "cast                 1690\n",
      "country              1625\n",
      "duration             1328\n",
      "date_added           1327\n",
      "listed_in            1327\n",
      "imdb_votes_log1p       16\n",
      "imdb_votes             16\n",
      "dtype: int64\n"
     ]
    }
   ],
   "source": [
    "common_title_year = df_strict.merge(\n",
    "    combined[[\"title\",\"release_year\"]].drop_duplicates(),\n",
    "    on=[\"title\",\"release_year\"],\n",
    "    how=\"left\",\n",
    "    indicator=True\n",
    ")[\"_merge\"].value_counts()\n",
    "\n",
    "print(\"Strict titles found in combined by (title, release_year):\")\n",
    "print(common_title_year, \"\\n\")\n",
    "\n",
    "print(\"Null checks in combined (top 10):\")\n",
    "print(combined.isnull().sum().sort_values(ascending=False).head(10))"
   ]
  },
  {
   "cell_type": "markdown",
   "id": "ceacd03a",
   "metadata": {},
   "source": [
    "10. Save cleaned combined + manifest"
   ]
  },
  {
   "cell_type": "code",
   "execution_count": 20,
   "id": "d654bce4",
   "metadata": {},
   "outputs": [
    {
     "name": "stdout",
     "output_type": "stream",
     "text": [
      "Saved:\n",
      "- ../data/processed/netflix_combined_clean.csv\n",
      "- ../data/interim/netflix_combined_manifest.json\n"
     ]
    }
   ],
   "source": [
    "combined.to_csv(COMBINED_CLEAN_CSV, index=False)\n",
    "\n",
    "manifest = {\n",
    "    \"dataset\": \"combined_clean\",\n",
    "    \"source\": str(COMBINED_RAW_CSV),\n",
    "    \"output\": str(COMBINED_CLEAN_CSV),\n",
    "    \"n_rows\": int(combined.shape[0]),\n",
    "    \"n_cols\": int(combined.shape[1]),\n",
    "    \"generated_at\": datetime.now().isoformat(timespec=\"seconds\"),\n",
    "    \"notes\": [\n",
    "        \"Applied same engineering as strict: duration_minutes, is_show, is_classic, desc_len, num_genres, imdb_votes_log1p.\",\n",
    "        \"Light noise cleanup on 'rating' and 'duration'.\",\n",
    "        \"Columns aligned to strict where possible for comparisons.\"\n",
    "    ]\n",
    "}\n",
    "\n",
    "pd.Series(manifest, dtype=\"object\").to_json(COMBINED_MANIFEST, indent=2)\n",
    "\n",
    "print(\"Saved:\")\n",
    "print(\"-\", COMBINED_CLEAN_CSV)\n",
    "print(\"-\", COMBINED_MANIFEST)"
   ]
  },
  {
   "cell_type": "markdown",
   "id": "c63db604",
   "metadata": {},
   "source": [
    "11. (Optional) Tiny comparison peek to help decide next steps"
   ]
  },
  {
   "cell_type": "code",
   "execution_count": 22,
   "id": "82a83340",
   "metadata": {},
   "outputs": [
    {
     "name": "stdout",
     "output_type": "stream",
     "text": [
      "\n",
      "Comparison — basic stats of key features:\n"
     ]
    },
    {
     "data": {
      "text/html": [
       "<div>\n",
       "<style scoped>\n",
       "    .dataframe tbody tr th:only-of-type {\n",
       "        vertical-align: middle;\n",
       "    }\n",
       "\n",
       "    .dataframe tbody tr th {\n",
       "        vertical-align: top;\n",
       "    }\n",
       "\n",
       "    .dataframe thead th {\n",
       "        text-align: right;\n",
       "    }\n",
       "</style>\n",
       "<table border=\"1\" class=\"dataframe\">\n",
       "  <thead>\n",
       "    <tr style=\"text-align: right;\">\n",
       "      <th></th>\n",
       "      <th>strict_mean</th>\n",
       "      <th>combined_mean</th>\n",
       "      <th>strict_median</th>\n",
       "      <th>combined_median</th>\n",
       "    </tr>\n",
       "  </thead>\n",
       "  <tbody>\n",
       "    <tr>\n",
       "      <th>imdb_score</th>\n",
       "      <td>6.449136</td>\n",
       "      <td>6.533447</td>\n",
       "      <td>6.600000</td>\n",
       "      <td>6.600000</td>\n",
       "    </tr>\n",
       "    <tr>\n",
       "      <th>imdb_votes</th>\n",
       "      <td>18153.036518</td>\n",
       "      <td>23407.194988</td>\n",
       "      <td>2354.000000</td>\n",
       "      <td>2279.000000</td>\n",
       "    </tr>\n",
       "    <tr>\n",
       "      <th>imdb_votes_log1p</th>\n",
       "      <td>7.735744</td>\n",
       "      <td>7.750163</td>\n",
       "      <td>7.764296</td>\n",
       "      <td>7.731931</td>\n",
       "    </tr>\n",
       "    <tr>\n",
       "      <th>runtime</th>\n",
       "      <td>84.869253</td>\n",
       "      <td>79.199886</td>\n",
       "      <td>91.000000</td>\n",
       "      <td>87.000000</td>\n",
       "    </tr>\n",
       "    <tr>\n",
       "      <th>duration_minutes</th>\n",
       "      <td>91.812194</td>\n",
       "      <td>79.468484</td>\n",
       "      <td>92.000000</td>\n",
       "      <td>87.000000</td>\n",
       "    </tr>\n",
       "    <tr>\n",
       "      <th>release_year</th>\n",
       "      <td>2016.194979</td>\n",
       "      <td>2015.879992</td>\n",
       "      <td>2018.000000</td>\n",
       "      <td>2018.000000</td>\n",
       "    </tr>\n",
       "    <tr>\n",
       "      <th>is_show</th>\n",
       "      <td>0.289860</td>\n",
       "      <td>0.355101</td>\n",
       "      <td>0.000000</td>\n",
       "      <td>0.000000</td>\n",
       "    </tr>\n",
       "    <tr>\n",
       "      <th>is_classic</th>\n",
       "      <td>0.032605</td>\n",
       "      <td>0.040886</td>\n",
       "      <td>0.000000</td>\n",
       "      <td>0.000000</td>\n",
       "    </tr>\n",
       "    <tr>\n",
       "      <th>desc_len</th>\n",
       "      <td>228.910662</td>\n",
       "      <td>235.006246</td>\n",
       "      <td>153.000000</td>\n",
       "      <td>158.000000</td>\n",
       "    </tr>\n",
       "    <tr>\n",
       "      <th>num_genres</th>\n",
       "      <td>2.227258</td>\n",
       "      <td>1.675752</td>\n",
       "      <td>2.000000</td>\n",
       "      <td>2.000000</td>\n",
       "    </tr>\n",
       "  </tbody>\n",
       "</table>\n",
       "</div>"
      ],
      "text/plain": [
       "                   strict_mean  combined_mean  strict_median  combined_median\n",
       "imdb_score            6.449136       6.533447       6.600000         6.600000\n",
       "imdb_votes        18153.036518   23407.194988    2354.000000      2279.000000\n",
       "imdb_votes_log1p      7.735744       7.750163       7.764296         7.731931\n",
       "runtime              84.869253      79.199886      91.000000        87.000000\n",
       "duration_minutes     91.812194      79.468484      92.000000        87.000000\n",
       "release_year       2016.194979    2015.879992    2018.000000      2018.000000\n",
       "is_show               0.289860       0.355101       0.000000         0.000000\n",
       "is_classic            0.032605       0.040886       0.000000         0.000000\n",
       "desc_len            228.910662     235.006246     153.000000       158.000000\n",
       "num_genres            2.227258       1.675752       2.000000         2.000000"
      ]
     },
     "metadata": {},
     "output_type": "display_data"
    }
   ],
   "source": [
    "print(\"\\nComparison — basic stats of key features:\")\n",
    "key_cols = [\"imdb_score\",\"imdb_votes\",\"imdb_votes_log1p\",\"runtime\",\"duration_minutes\",\"release_year\",\"is_show\",\"is_classic\",\"desc_len\",\"num_genres\"]\n",
    "display(\n",
    "    pd.DataFrame({\n",
    "        \"strict_mean\": df_strict[key_cols].mean(numeric_only=True),\n",
    "        \"combined_mean\": combined[key_cols].mean(numeric_only=True),\n",
    "        \"strict_median\": df_strict[key_cols].median(numeric_only=True),\n",
    "        \"combined_median\": combined[key_cols].median(numeric_only=True),\n",
    "    })\n",
    ")"
   ]
  },
  {
   "cell_type": "markdown",
   "id": "88629d18",
   "metadata": {},
   "source": [
    "12. Conclusions"
   ]
  },
  {
   "cell_type": "markdown",
   "id": "88135d9f",
   "metadata": {},
   "source": [
    "1. Dataset alignment\n",
    "\n",
    "\t\t•\tAll strict titles are in combined (both = 3067), no losses.\n",
    "\t\t•\tCombined has extra ~2,216 rows (the “loose” matches).\n",
    "\n",
    "2. Null patterns\n",
    "\n",
    "\t\t•\tThe big gaps (director, cast, country, etc.) are exactly where loose matches failed to bring metadata.\n",
    "\t\t•\timdb_votes has 16 missing rows vs. 5 in strict — another sign that loose adds noise.\n",
    "\n",
    "3. Stat differences\n",
    "\n",
    "\t\t•\timdb_score is basically the same, but combined has slightly higher mean — possibly due to selection bias in loose matches.\n",
    "\t\t•\truntime and duration_minutes are lower in combined — consistent with more shows (~35.5% vs 28.9% in strict).\n",
    "\t\t•\tnum_genres is noticeably smaller in combined (1.68 vs 2.23) → metadata loss in loose rows.\n",
    "\t\t•\tis_classic slightly higher in combined → loose adds a few more older titles.\n",
    "\n",
    "4. Implications for modeling\n",
    "\n",
    "\t\t•\tIf you care about richer metadata (genres, directors, etc.), strict is safer.\n",
    "\t\t•\tIf you care about raw coverage, combined gives more rows but more missingness."
   ]
  },
  {
   "cell_type": "markdown",
   "id": "0858999c",
   "metadata": {},
   "source": [
    "## Combined dataset pre–deep-dive prep (mirrors strict cleaning)"
   ]
  },
  {
   "cell_type": "markdown",
   "id": "8be3f91f",
   "metadata": {},
   "source": [
    "1. Load libraries"
   ]
  },
  {
   "cell_type": "code",
   "execution_count": 23,
   "id": "ffb98ccd",
   "metadata": {},
   "outputs": [],
   "source": [
    "import re, json, numpy as np, pandas as pd\n",
    "from pathlib import Path"
   ]
  },
  {
   "cell_type": "markdown",
   "id": "6aaac202",
   "metadata": {},
   "source": [
    "2. Paths"
   ]
  },
  {
   "cell_type": "code",
   "execution_count": 24,
   "id": "249b2a78",
   "metadata": {},
   "outputs": [],
   "source": [
    "PROCESSED_DIR = Path(\"../data/processed\")\n",
    "INTERIM_DIR   = Path(\"../data/interim\")\n",
    "PROCESSED_DIR.mkdir(parents=True, exist_ok=True)\n",
    "INTERIM_DIR.mkdir(parents=True, exist_ok=True)"
   ]
  },
  {
   "cell_type": "markdown",
   "id": "fbe3307c",
   "metadata": {},
   "source": [
    "3. Inputs"
   ]
  },
  {
   "cell_type": "code",
   "execution_count": 25,
   "id": "58ffdcc8",
   "metadata": {},
   "outputs": [],
   "source": [
    "STRICT_CLEAN_CSV   = PROCESSED_DIR / \"netflix_strict_clean.csv\"              # from Notebook 2\n",
    "COMBINED_CLEAN_CSV = PROCESSED_DIR / \"netflix_combined_clean.csv\"            # from Notebook 3 (preliminary engineered)"
   ]
  },
  {
   "cell_type": "markdown",
   "id": "7e75df55",
   "metadata": {},
   "source": [
    "4. Outputs"
   ]
  },
  {
   "cell_type": "code",
   "execution_count": 26,
   "id": "053a98f6",
   "metadata": {},
   "outputs": [],
   "source": [
    "COMBINED_SYNCED_CSV   = PROCESSED_DIR / \"netflix_combined_clean_synced.csv\"\n",
    "COMBINED_MANIFEST_JSON= INTERIM_DIR / \"netflix_combined_manifest.json\""
   ]
  },
  {
   "cell_type": "markdown",
   "id": "d5693193",
   "metadata": {},
   "source": [
    "5. Helpers"
   ]
  },
  {
   "cell_type": "code",
   "execution_count": 27,
   "id": "422ccadf",
   "metadata": {},
   "outputs": [],
   "source": [
    "def parse_duration_to_minutes(s):\n",
    "    if pd.isna(s): \n",
    "        return np.nan\n",
    "    s = str(s).strip().lower()\n",
    "    # \"123 min\" -> 123\n",
    "    m = re.match(r\"^\\s*(\\d+)\\s*min\\s*$\", s)\n",
    "    if m:\n",
    "        return float(m.group(1))\n",
    "    # \"3 Seasons\", \"1 Season\" -> treat as ~30 min episode proxy (optional). Keep NaN if you prefer.\n",
    "    m_season = re.match(r\"^\\s*(\\d+)\\s*season\", s)\n",
    "    if m_season:\n",
    "        return np.nan\n",
    "    return np.nan\n"
   ]
  },
  {
   "cell_type": "code",
   "execution_count": 28,
   "id": "47183f15",
   "metadata": {},
   "outputs": [],
   "source": [
    "def normalize_rating_and_duration(df):\n",
    "    \"\"\"\n",
    "    If rating accidentally contains a duration-like value (e.g., '84 min'),\n",
    "    move it to duration if duration is null, then clear rating -> NaN.\n",
    "    \"\"\"\n",
    "    mask_dur_in_rating = df[\"rating\"].astype(str).str.lower().str.contains(r\"^\\s*\\d+\\s*min\\s*$\", regex=True)\n",
    "    # Move only when duration is missing to avoid overwriting good data\n",
    "    to_move = mask_dur_in_rating & df[\"duration\"].isna()\n",
    "    df.loc[to_move, \"duration\"] = df.loc[to_move, \"rating\"]\n",
    "    # Now clear those rating cells (they weren't real ratings)\n",
    "    df.loc[mask_dur_in_rating, \"rating\"] = np.nan\n",
    "    return df\n"
   ]
  },
  {
   "cell_type": "code",
   "execution_count": 29,
   "id": "c60e31c1",
   "metadata": {},
   "outputs": [],
   "source": [
    "def count_genres(s):\n",
    "    if pd.isna(s): \n",
    "        return 0\n",
    "    return len([g for g in map(str.strip, str(s).split(\",\")) if g])"
   ]
  },
  {
   "cell_type": "markdown",
   "id": "aeaa268a",
   "metadata": {},
   "source": [
    "6. Load datasets"
   ]
  },
  {
   "cell_type": "code",
   "execution_count": 30,
   "id": "77f2f523",
   "metadata": {},
   "outputs": [],
   "source": [
    "strict = pd.read_csv(STRICT_CLEAN_CSV)\n",
    "combined = pd.read_csv(COMBINED_CLEAN_CSV)"
   ]
  },
  {
   "cell_type": "markdown",
   "id": "558f7a27",
   "metadata": {},
   "source": [
    "7. Check dimensions of datasets"
   ]
  },
  {
   "cell_type": "code",
   "execution_count": 31,
   "id": "cd4e0c0e",
   "metadata": {},
   "outputs": [
    {
     "name": "stdout",
     "output_type": "stream",
     "text": [
      "Strict clean shape:   (3067, 26)\n",
      "Combined (pre-sync):  (5283, 26)\n"
     ]
    }
   ],
   "source": [
    "print(\"Strict clean shape:  \", strict.shape)\n",
    "print(\"Combined (pre-sync): \", combined.shape)"
   ]
  },
  {
   "cell_type": "markdown",
   "id": "a5e5b396",
   "metadata": {},
   "source": [
    "8. Drop missing imdb_votes (mirror strict policy)"
   ]
  },
  {
   "cell_type": "code",
   "execution_count": 32,
   "id": "3662fb3c",
   "metadata": {},
   "outputs": [],
   "source": [
    "before = len(combined)\n",
    "combined = combined.dropna(subset=[\"imdb_votes\"])\n",
    "dropped_votes = before - len(combined)"
   ]
  },
  {
   "cell_type": "markdown",
   "id": "c926de8d",
   "metadata": {},
   "source": [
    "9. Treat Unknown in categorical"
   ]
  },
  {
   "cell_type": "code",
   "execution_count": 33,
   "id": "3c960896",
   "metadata": {},
   "outputs": [],
   "source": [
    "for col in [\"age_certification\", \"country\"]:\n",
    "    if col in combined.columns:\n",
    "        combined[col] = combined[col].fillna(\"Unknown\")"
   ]
  },
  {
   "cell_type": "markdown",
   "id": "24b3abe0",
   "metadata": {},
   "source": [
    "10. Fix noisy rating (duration-like strings)"
   ]
  },
  {
   "cell_type": "code",
   "execution_count": 34,
   "id": "fb722c80",
   "metadata": {},
   "outputs": [],
   "source": [
    "for col in [\"rating\", \"duration\"]:\n",
    "    if col not in combined.columns:\n",
    "        combined[col] = np.nan\n",
    "combined = normalize_rating_and_duration(combined)"
   ]
  },
  {
   "cell_type": "markdown",
   "id": "4bf6a8f4",
   "metadata": {},
   "source": [
    "11. Ensure duration_minutes numeric & repaired"
   ]
  },
  {
   "cell_type": "code",
   "execution_count": 35,
   "id": "9f15934c",
   "metadata": {},
   "outputs": [
    {
     "name": "stderr",
     "output_type": "stream",
     "text": [
      "/var/folders/3y/3t9y2w7n5fb6lt73nw9p5zrc0000gn/T/ipykernel_4090/4149114006.py:7: FutureWarning: Setting an item of incompatible dtype is deprecated and will raise an error in a future version of pandas. Value '[]' has dtype incompatible with float64, please explicitly cast to a compatible dtype first.\n",
      "  combined.loc[mask_need_dur, \"duration_minutes\"] = combined.loc[mask_need_dur, \"duration\"].map(parse_duration_to_minutes)\n"
     ]
    }
   ],
   "source": [
    "# If column missing, create it\n",
    "if \"duration_minutes\" not in combined.columns:\n",
    "    combined[\"duration_minutes\"] = np.nan\n",
    "\n",
    "# Try to (re)compute from duration where missing\n",
    "mask_need_dur = combined[\"duration_minutes\"].isna() & combined[\"duration\"].notna()\n",
    "combined.loc[mask_need_dur, \"duration_minutes\"] = combined.loc[mask_need_dur, \"duration\"].map(parse_duration_to_minutes)\n",
    "\n",
    "# As a fallback, if still NaN but runtime exists, you can set duration_minutes = runtime for MOVIE rows\n",
    "if \"runtime\" in combined.columns and \"type\" in combined.columns:\n",
    "    fallback_mask = combined[\"duration_minutes\"].isna() & combined[\"runtime\"].notna() & (combined[\"type\"].str.upper() == \"MOVIE\")\n",
    "    combined.loc[fallback_mask, \"duration_minutes\"] = combined.loc[fallback_mask, \"runtime\"].astype(float)"
   ]
  },
  {
   "cell_type": "markdown",
   "id": "205b7998",
   "metadata": {},
   "source": [
    "12. Recalculate derived flags"
   ]
  },
  {
   "cell_type": "code",
   "execution_count": 36,
   "id": "793c1389",
   "metadata": {},
   "outputs": [],
   "source": [
    "# is_show\n",
    "if \"type\" in combined.columns:\n",
    "    combined[\"is_show\"] = (combined[\"type\"].str.upper() == \"SHOW\").astype(int)\n",
    "else:\n",
    "    combined[\"is_show\"] = 0\n",
    "\n",
    "# is_classic\n",
    "if \"release_year\" in combined.columns:\n",
    "    combined[\"is_classic\"] = (combined[\"release_year\"] < 2000).astype(int)\n",
    "else:\n",
    "    combined[\"is_classic\"] = 0\n",
    "\n",
    "# desc_len\n",
    "if \"description\" in combined.columns:\n",
    "    combined[\"desc_len\"] = combined[\"description\"].fillna(\"\").astype(str).str.len()\n",
    "else:\n",
    "    combined[\"desc_len\"] = 0\n",
    "\n",
    "# num_genres\n",
    "if \"listed_in\" in combined.columns:\n",
    "    combined[\"num_genres\"] = combined[\"listed_in\"].map(count_genres)\n",
    "else:\n",
    "    combined[\"num_genres\"] = 0\n",
    "\n",
    "# log1p votes (recompute after dropping NaNs)\n",
    "combined[\"imdb_votes_log1p\"] = np.log1p(combined[\"imdb_votes\"])\n"
   ]
  },
  {
   "cell_type": "markdown",
   "id": "67bbd100",
   "metadata": {},
   "source": [
    "13. Align columns & order with strict"
   ]
  },
  {
   "cell_type": "code",
   "execution_count": 37,
   "id": "75c79ece",
   "metadata": {},
   "outputs": [],
   "source": [
    "# Ensure all strict columns exist in combined\n",
    "for col in strict.columns:\n",
    "    if col not in combined.columns:\n",
    "        combined[col] = np.nan\n",
    "\n",
    "# Order combined columns to match strict (put any extras after)\n",
    "strict_cols = list(strict.columns)\n",
    "extra_cols = [c for c in combined.columns if c not in strict_cols]\n",
    "combined = combined[strict_cols + extra_cols]"
   ]
  },
  {
   "cell_type": "markdown",
   "id": "baddc659",
   "metadata": {},
   "source": [
    "14. Report"
   ]
  },
  {
   "cell_type": "code",
   "execution_count": 38,
   "id": "310ef5b1",
   "metadata": {},
   "outputs": [
    {
     "name": "stdout",
     "output_type": "stream",
     "text": [
      "\n",
      "Dropped rows with missing imdb_votes: 16\n",
      "\n",
      "Nulls (key fields) after sync:\n",
      " age_certification    0\n",
      "country              0\n",
      "duration_minutes     0\n",
      "imdb_votes           0\n",
      "imdb_votes_log1p     0\n",
      "dtype: int64\n",
      "\n",
      "Final combined shape:  (5267, 26)\n"
     ]
    }
   ],
   "source": [
    "print(f\"\\nDropped rows with missing imdb_votes: {dropped_votes}\")\n",
    "key_nulls = combined[[\"age_certification\",\"country\",\"duration_minutes\",\"imdb_votes\",\"imdb_votes_log1p\"]].isna().sum()\n",
    "print(\"\\nNulls (key fields) after sync:\\n\", key_nulls)\n",
    "print(\"\\nFinal combined shape: \", combined.shape)"
   ]
  },
  {
   "cell_type": "markdown",
   "id": "23ee8aea",
   "metadata": {},
   "source": [
    "15. Save + manifest"
   ]
  },
  {
   "cell_type": "code",
   "execution_count": 39,
   "id": "90488f1f",
   "metadata": {},
   "outputs": [
    {
     "name": "stdout",
     "output_type": "stream",
     "text": [
      "\n",
      "Saved:\n",
      "- ../data/processed/netflix_combined_clean_synced.csv\n",
      "- ../data/interim/netflix_combined_manifest.json\n"
     ]
    }
   ],
   "source": [
    "combined.to_csv(COMBINED_SYNCED_CSV, index=False)\n",
    "\n",
    "manifest = {\n",
    "    \"source\": \"netflix_combined_clean.csv (synced to strict rules)\",\n",
    "    \"rows\": int(combined.shape[0]),\n",
    "    \"cols\": int(combined.shape[1]),\n",
    "    \"dropped_missing_imdb_votes\": int(dropped_votes),\n",
    "    \"nulls_key_fields\": key_nulls.to_dict()\n",
    "}\n",
    "with open(COMBINED_MANIFEST_JSON, \"w\") as f:\n",
    "    json.dump(manifest, f, indent=2)\n",
    "\n",
    "print(\"\\nSaved:\")\n",
    "print(f\"- {COMBINED_SYNCED_CSV}\")\n",
    "print(f\"- {COMBINED_MANIFEST_JSON}\")"
   ]
  },
  {
   "cell_type": "markdown",
   "id": "8562b3f8",
   "metadata": {},
   "source": [
    "## Deep-Dive EDA"
   ]
  },
  {
   "cell_type": "markdown",
   "id": "2c3bb32f",
   "metadata": {},
   "source": [
    "1. Import libraries"
   ]
  },
  {
   "cell_type": "code",
   "execution_count": 40,
   "id": "5e5a327c",
   "metadata": {},
   "outputs": [],
   "source": [
    "import pandas as pd\n",
    "import numpy as np\n",
    "import matplotlib.pyplot as plt\n",
    "import seaborn as sns\n",
    "from pathlib import Path"
   ]
  },
  {
   "cell_type": "markdown",
   "id": "5265f2c1",
   "metadata": {},
   "source": [
    "3. Setup plot params"
   ]
  },
  {
   "cell_type": "code",
   "execution_count": 41,
   "id": "9859e6a4",
   "metadata": {},
   "outputs": [],
   "source": [
    "plt.rcParams[\"figure.figsize\"] = (8,5)\n",
    "sns.set(style=\"whitegrid\")"
   ]
  },
  {
   "cell_type": "markdown",
   "id": "cbe20b5c",
   "metadata": {},
   "source": [
    "4. Paths"
   ]
  },
  {
   "cell_type": "code",
   "execution_count": 42,
   "id": "ec42b048",
   "metadata": {},
   "outputs": [],
   "source": [
    "STRICT_PATH   = Path(\"../data/processed/netflix_strict_clean.csv\")\n",
    "COMBINED_PATH = Path(\"../data/processed/netflix_combined_clean_synced.csv\")"
   ]
  },
  {
   "cell_type": "markdown",
   "id": "b0daac1e",
   "metadata": {},
   "source": [
    "5. Load datasets"
   ]
  },
  {
   "cell_type": "code",
   "execution_count": 43,
   "id": "a564a84d",
   "metadata": {},
   "outputs": [],
   "source": [
    "strict   = pd.read_csv(STRICT_PATH)\n",
    "combined = pd.read_csv(COMBINED_PATH)"
   ]
  },
  {
   "cell_type": "markdown",
   "id": "949aab13",
   "metadata": {},
   "source": [
    "6. Basic info: Check dimensions of datasets"
   ]
  },
  {
   "cell_type": "code",
   "execution_count": 44,
   "id": "f7638552",
   "metadata": {},
   "outputs": [
    {
     "name": "stdout",
     "output_type": "stream",
     "text": [
      "Strict shape: (3067, 26)\n",
      "Combined shape: (5267, 26)\n"
     ]
    }
   ],
   "source": [
    "print(\"Strict shape:\", strict.shape)\n",
    "print(\"Combined shape:\", combined.shape)"
   ]
  },
  {
   "cell_type": "markdown",
   "id": "6a971b95",
   "metadata": {},
   "source": [
    "7. Sanity: Shared essential columns"
   ]
  },
  {
   "cell_type": "code",
   "execution_count": 45,
   "id": "bd9390f8",
   "metadata": {},
   "outputs": [
    {
     "name": "stdout",
     "output_type": "stream",
     "text": [
      "Missing in strict: []\n",
      "Missing in combined: []\n"
     ]
    }
   ],
   "source": [
    "essential = [\n",
    "    \"title\",\"type\",\"release_year\",\"imdb_score\",\"imdb_votes\",\"imdb_votes_log1p\",\n",
    "    \"runtime\",\"duration_minutes\",\"age_certification\",\"country\",\n",
    "    \"desc_len\",\"num_genres\",\"is_show\",\"is_classic\"\n",
    "]\n",
    "missing_in_strict   = [c for c in essential if c not in strict.columns]\n",
    "missing_in_combined = [c for c in essential if c not in combined.columns]\n",
    "print(\"Missing in strict:\", missing_in_strict)\n",
    "print(\"Missing in combined:\", missing_in_combined)"
   ]
  },
  {
   "cell_type": "markdown",
   "id": "439e70a5",
   "metadata": {},
   "source": [
    "### EDA"
   ]
  },
  {
   "cell_type": "markdown",
   "id": "c49ca4e5",
   "metadata": {},
   "source": [
    "1. Score Distribution (Strict vs Combined)"
   ]
  },
  {
   "cell_type": "code",
   "execution_count": 46,
   "id": "b4c0e60d",
   "metadata": {},
   "outputs": [
    {
     "data": {
      "image/png": "[encoded data removed]",
      "text/plain": [
       "<Figure size 800x500 with 1 Axes>"
      ]
     },
     "metadata": {},
     "output_type": "display_data"
    },
    {
     "name": "stdout",
     "output_type": "stream",
     "text": [
      "Score summary\n"
     ]
    },
    {
     "data": {
      "text/html": [
       "<div>\n",
       "<style scoped>\n",
       "    .dataframe tbody tr th:only-of-type {\n",
       "        vertical-align: middle;\n",
       "    }\n",
       "\n",
       "    .dataframe tbody tr th {\n",
       "        vertical-align: top;\n",
       "    }\n",
       "\n",
       "    .dataframe thead th {\n",
       "        text-align: right;\n",
       "    }\n",
       "</style>\n",
       "<table border=\"1\" class=\"dataframe\">\n",
       "  <thead>\n",
       "    <tr style=\"text-align: right;\">\n",
       "      <th></th>\n",
       "      <th>strict_mean</th>\n",
       "      <th>combined_mean</th>\n",
       "      <th>strict_median</th>\n",
       "      <th>combined_median</th>\n",
       "    </tr>\n",
       "  </thead>\n",
       "  <tbody>\n",
       "    <tr>\n",
       "      <th>0</th>\n",
       "      <td>6.449136</td>\n",
       "      <td>6.533264</td>\n",
       "      <td>6.6</td>\n",
       "      <td>6.6</td>\n",
       "    </tr>\n",
       "  </tbody>\n",
       "</table>\n",
       "</div>"
      ],
      "text/plain": [
       "   strict_mean  combined_mean  strict_median  combined_median\n",
       "0     6.449136       6.533264            6.6              6.6"
      ]
     },
     "metadata": {},
     "output_type": "display_data"
    }
   ],
   "source": [
    "fig, ax = plt.subplots()\n",
    "sns.kdeplot(strict[\"imdb_score\"], label=\"Strict\", ax=ax)\n",
    "sns.kdeplot(combined[\"imdb_score\"], label=\"Combined\", ax=ax)\n",
    "ax.set_title(\"IMDb Score Distribution: Strict vs Combined\")\n",
    "ax.set_xlabel(\"IMDb Score\")\n",
    "ax.legend()\n",
    "plt.show()\n",
    "\n",
    "print(\"Score summary\")\n",
    "display(pd.DataFrame({\n",
    "    \"strict_mean\":   [strict[\"imdb_score\"].mean()],\n",
    "    \"combined_mean\": [combined[\"imdb_score\"].mean()],\n",
    "    \"strict_median\": [strict[\"imdb_score\"].median()],\n",
    "    \"combined_median\": [combined[\"imdb_score\"].median()]\n",
    "}))"
   ]
  },
  {
   "cell_type": "markdown",
   "id": "072a142a",
   "metadata": {},
   "source": [
    "2. Votes Distribution & Log-Votes"
   ]
  },
  {
   "cell_type": "code",
   "execution_count": 47,
   "id": "ee4d2de7",
   "metadata": {},
   "outputs": [
    {
     "data": {
      "image/png": "[encoded data removed]",
      "text/plain": [
       "<Figure size 800x500 with 1 Axes>"
      ]
     },
     "metadata": {},
     "output_type": "display_data"
    },
    {
     "data": {
      "image/png": "[encoded data removed]",
      "text/plain": [
       "<Figure size 800x500 with 1 Axes>"
      ]
     },
     "metadata": {},
     "output_type": "display_data"
    },
    {
     "data": {
      "text/html": [
       "<div>\n",
       "<style scoped>\n",
       "    .dataframe tbody tr th:only-of-type {\n",
       "        vertical-align: middle;\n",
       "    }\n",
       "\n",
       "    .dataframe tbody tr th {\n",
       "        vertical-align: top;\n",
       "    }\n",
       "\n",
       "    .dataframe thead th {\n",
       "        text-align: right;\n",
       "    }\n",
       "</style>\n",
       "<table border=\"1\" class=\"dataframe\">\n",
       "  <thead>\n",
       "    <tr style=\"text-align: right;\">\n",
       "      <th></th>\n",
       "      <th>strict_mean_votes</th>\n",
       "      <th>combined_mean_votes</th>\n",
       "      <th>strict_median_votes</th>\n",
       "      <th>combined_median_votes</th>\n",
       "    </tr>\n",
       "  </thead>\n",
       "  <tbody>\n",
       "    <tr>\n",
       "      <th>0</th>\n",
       "      <td>18153.036518</td>\n",
       "      <td>23407.194988</td>\n",
       "      <td>2354.0</td>\n",
       "      <td>2279.0</td>\n",
       "    </tr>\n",
       "  </tbody>\n",
       "</table>\n",
       "</div>"
      ],
      "text/plain": [
       "   strict_mean_votes  combined_mean_votes  strict_median_votes  \\\n",
       "0       18153.036518         23407.194988               2354.0   \n",
       "\n",
       "   combined_median_votes  \n",
       "0                 2279.0  "
      ]
     },
     "metadata": {},
     "output_type": "display_data"
    }
   ],
   "source": [
    "fig, ax = plt.subplots()\n",
    "sns.kdeplot(strict[\"imdb_votes\"], label=\"Strict\", ax=ax, clip=(0, np.percentile(strict[\"imdb_votes\"], 99)))\n",
    "sns.kdeplot(combined[\"imdb_votes\"], label=\"Combined\", ax=ax, clip=(0, np.percentile(combined[\"imdb_votes\"], 99)))\n",
    "ax.set_title(\"IMDb Votes (clipped at 99th pct) — Strict vs Combined\")\n",
    "ax.set_xlabel(\"IMDb Votes\")\n",
    "ax.legend()\n",
    "plt.show()\n",
    "\n",
    "fig, ax = plt.subplots()\n",
    "sns.kdeplot(strict[\"imdb_votes_log1p\"], label=\"Strict\", ax=ax)\n",
    "sns.kdeplot(combined[\"imdb_votes_log1p\"], label=\"Combined\", ax=ax)\n",
    "ax.set_title(\"log1p(IMDb Votes) — Strict vs Combined\")\n",
    "ax.set_xlabel(\"log1p(votes)\")\n",
    "ax.legend()\n",
    "plt.show()\n",
    "\n",
    "display(pd.DataFrame({\n",
    "    \"strict_mean_votes\":   [strict[\"imdb_votes\"].mean()],\n",
    "    \"combined_mean_votes\": [combined[\"imdb_votes\"].mean()],\n",
    "    \"strict_median_votes\":[strict[\"imdb_votes\"].median()],\n",
    "    \"combined_median_votes\":[combined[\"imdb_votes\"].median()]\n",
    "}))"
   ]
  },
  {
   "cell_type": "markdown",
   "id": "1b4aa127",
   "metadata": {},
   "source": [
    "Score/votes shapes are consistent.\n",
    "\n",
    "\t•\tScores cluster ~6–7 in both sets; combined has a tiny shift upward (likely more shows and shows have higher scores).\n",
    "\t•\tVotes are extremely right-skewed; your log1p view looks near-normal → perfect for modeling."
   ]
  },
  {
   "cell_type": "markdown",
   "id": "8c5c8ddc",
   "metadata": {},
   "source": [
    "3. Movies vs Shows: share & runtime clusters"
   ]
  },
  {
   "cell_type": "code",
   "execution_count": 48,
   "id": "bc910cc7",
   "metadata": {},
   "outputs": [
    {
     "data": {
      "text/html": [
       "<div>\n",
       "<style scoped>\n",
       "    .dataframe tbody tr th:only-of-type {\n",
       "        vertical-align: middle;\n",
       "    }\n",
       "\n",
       "    .dataframe tbody tr th {\n",
       "        vertical-align: top;\n",
       "    }\n",
       "\n",
       "    .dataframe thead th {\n",
       "        text-align: right;\n",
       "    }\n",
       "</style>\n",
       "<table border=\"1\" class=\"dataframe\">\n",
       "  <thead>\n",
       "    <tr style=\"text-align: right;\">\n",
       "      <th></th>\n",
       "      <th>dataset</th>\n",
       "      <th>pct_show</th>\n",
       "      <th>pct_movie</th>\n",
       "    </tr>\n",
       "  </thead>\n",
       "  <tbody>\n",
       "    <tr>\n",
       "      <th>0</th>\n",
       "      <td>Strict</td>\n",
       "      <td>28.985980</td>\n",
       "      <td>71.014020</td>\n",
       "    </tr>\n",
       "    <tr>\n",
       "      <th>1</th>\n",
       "      <td>Combined</td>\n",
       "      <td>35.617999</td>\n",
       "      <td>64.382001</td>\n",
       "    </tr>\n",
       "  </tbody>\n",
       "</table>\n",
       "</div>"
      ],
      "text/plain": [
       "    dataset   pct_show  pct_movie\n",
       "0    Strict  28.985980  71.014020\n",
       "1  Combined  35.617999  64.382001"
      ]
     },
     "metadata": {},
     "output_type": "display_data"
    },
    {
     "data": {
      "image/png": "[encoded data removed]",
      "text/plain": [
       "<Figure size 800x500 with 1 Axes>"
      ]
     },
     "metadata": {},
     "output_type": "display_data"
    },
    {
     "data": {
      "image/png": "[encoded data removed]",
      "text/plain": [
       "<Figure size 800x500 with 1 Axes>"
      ]
     },
     "metadata": {},
     "output_type": "display_data"
    },
    {
     "data": {
      "image/png": "[encoded data removed]",
      "text/plain": [
       "<Figure size 800x500 with 1 Axes>"
      ]
     },
     "metadata": {},
     "output_type": "display_data"
    }
   ],
   "source": [
    "# 3) Movies vs Shows share\n",
    "share = pd.DataFrame({\n",
    "    \"dataset\": [\"Strict\", \"Combined\"],\n",
    "    \"pct_show\": [\n",
    "        strict[\"is_show\"].mean()*100,\n",
    "        combined[\"is_show\"].mean()*100\n",
    "    ],\n",
    "    \"pct_movie\": [\n",
    "        (1 - strict[\"is_show\"]).mean()*100,\n",
    "        (1 - combined[\"is_show\"]).mean()*100\n",
    "    ]\n",
    "})\n",
    "display(share)\n",
    "\n",
    "fig, ax = plt.subplots()\n",
    "sns.countplot(data=pd.concat([strict.assign(dataset=\"Strict\"),\n",
    "                              combined.assign(dataset=\"Combined\")]),\n",
    "              x=\"type\", hue=\"dataset\", ax=ax)\n",
    "ax.set_title(\"Type Distribution by Dataset\")\n",
    "plt.show()\n",
    "\n",
    "# runtime clusters by type\n",
    "fig, ax = plt.subplots()\n",
    "sns.kdeplot(data= strict, x=\"duration_minutes\", hue=\"type\", common_norm=False, ax=ax, fill=True, alpha=0.3, linewidth=1)\n",
    "ax.set_title(\"Strict: duration_minutes by Type\")\n",
    "plt.show()\n",
    "\n",
    "fig, ax = plt.subplots()\n",
    "sns.kdeplot(data= combined, x=\"duration_minutes\", hue=\"type\", common_norm=False, ax=ax, fill=True, alpha=0.3, linewidth=1)\n",
    "ax.set_title(\"Combined: duration_minutes by Type\")\n",
    "plt.show()"
   ]
  },
  {
   "cell_type": "markdown",
   "id": "627ea02d",
   "metadata": {},
   "source": [
    "•\tYour table shows ~29% shows (strict) vs ~36% shows (combined), **which explains the lower median runtimes in combined**. The KDEs by type confirm the classic ~45–60 min show vs ~90–120 min movie clusters."
   ]
  },
  {
   "cell_type": "markdown",
   "id": "733f8640",
   "metadata": {},
   "source": [
    "4. Metadata Completeness (director, cast, country, genres)"
   ]
  },
  {
   "cell_type": "code",
   "execution_count": 49,
   "id": "7b44cc92",
   "metadata": {},
   "outputs": [
    {
     "data": {
      "text/html": [
       "<div>\n",
       "<style scoped>\n",
       "    .dataframe tbody tr th:only-of-type {\n",
       "        vertical-align: middle;\n",
       "    }\n",
       "\n",
       "    .dataframe tbody tr th {\n",
       "        vertical-align: top;\n",
       "    }\n",
       "\n",
       "    .dataframe thead th {\n",
       "        text-align: right;\n",
       "    }\n",
       "</style>\n",
       "<table border=\"1\" class=\"dataframe\">\n",
       "  <thead>\n",
       "    <tr style=\"text-align: right;\">\n",
       "      <th></th>\n",
       "      <th>Strict % non-null</th>\n",
       "      <th>Combined % non-null</th>\n",
       "    </tr>\n",
       "  </thead>\n",
       "  <tbody>\n",
       "    <tr>\n",
       "      <th>cast</th>\n",
       "      <td>90.446691</td>\n",
       "      <td>68.141257</td>\n",
       "    </tr>\n",
       "    <tr>\n",
       "      <th>country</th>\n",
       "      <td>100.000000</td>\n",
       "      <td>100.000000</td>\n",
       "    </tr>\n",
       "    <tr>\n",
       "      <th>desc_len</th>\n",
       "      <td>100.000000</td>\n",
       "      <td>100.000000</td>\n",
       "    </tr>\n",
       "    <tr>\n",
       "      <th>director</th>\n",
       "      <td>72.089990</td>\n",
       "      <td>47.921018</td>\n",
       "    </tr>\n",
       "    <tr>\n",
       "      <th>num_genres</th>\n",
       "      <td>100.000000</td>\n",
       "      <td>100.000000</td>\n",
       "    </tr>\n",
       "  </tbody>\n",
       "</table>\n",
       "</div>"
      ],
      "text/plain": [
       "            Strict % non-null  Combined % non-null\n",
       "cast                90.446691            68.141257\n",
       "country            100.000000           100.000000\n",
       "desc_len           100.000000           100.000000\n",
       "director            72.089990            47.921018\n",
       "num_genres         100.000000           100.000000"
      ]
     },
     "metadata": {},
     "output_type": "display_data"
    },
    {
     "data": {
      "image/png": "[encoded data removed]",
      "text/plain": [
       "<Figure size 900x500 with 1 Axes>"
      ]
     },
     "metadata": {},
     "output_type": "display_data"
    }
   ],
   "source": [
    "# 4) Metadata Completeness\n",
    "def completeness(df, cols):\n",
    "    return pd.Series({c: df[c].notna().mean()*100 for c in cols})\n",
    "\n",
    "meta_cols = [\"director\",\"cast\",\"country\",\"num_genres\",\"desc_len\"]\n",
    "comp = pd.DataFrame({\n",
    "    \"Strict % non-null\": completeness(strict, meta_cols),\n",
    "    \"Combined % non-null\": completeness(combined, meta_cols)\n",
    "}).sort_index()\n",
    "display(comp)\n",
    "\n",
    "comp.plot(kind=\"bar\", rot=0, title=\"Metadata Completeness (%)\", figsize=(9,5))\n",
    "plt.ylabel(\"% non-null\")\n",
    "plt.show()"
   ]
  },
  {
   "cell_type": "markdown",
   "id": "f884b45f",
   "metadata": {},
   "source": [
    "•\tdirector and cast non-null rates drop, which is expected: loose joins bring more titles but not always their meta. After your sync step you filled critical fields, so both sets are modelable, but strict is “cleaner”."
   ]
  },
  {
   "cell_type": "markdown",
   "id": "d9025221",
   "metadata": {},
   "source": [
    "5. Genres: frequency & average score"
   ]
  },
  {
   "cell_type": "code",
   "execution_count": 50,
   "id": "f3aabf86",
   "metadata": {},
   "outputs": [
    {
     "data": {
      "text/html": [
       "<div>\n",
       "<style scoped>\n",
       "    .dataframe tbody tr th:only-of-type {\n",
       "        vertical-align: middle;\n",
       "    }\n",
       "\n",
       "    .dataframe tbody tr th {\n",
       "        vertical-align: top;\n",
       "    }\n",
       "\n",
       "    .dataframe thead th {\n",
       "        text-align: right;\n",
       "    }\n",
       "</style>\n",
       "<table border=\"1\" class=\"dataframe\">\n",
       "  <thead>\n",
       "    <tr style=\"text-align: right;\">\n",
       "      <th></th>\n",
       "      <th>dataset</th>\n",
       "      <th>genre</th>\n",
       "      <th>count</th>\n",
       "      <th>avg_score</th>\n",
       "    </tr>\n",
       "  </thead>\n",
       "  <tbody>\n",
       "    <tr>\n",
       "      <th>8</th>\n",
       "      <td>Combined</td>\n",
       "      <td>International Movies</td>\n",
       "      <td>1240</td>\n",
       "      <td>6.190968</td>\n",
       "    </tr>\n",
       "    <tr>\n",
       "      <th>6</th>\n",
       "      <td>Combined</td>\n",
       "      <td>Dramas</td>\n",
       "      <td>1067</td>\n",
       "      <td>6.369166</td>\n",
       "    </tr>\n",
       "    <tr>\n",
       "      <th>9</th>\n",
       "      <td>Combined</td>\n",
       "      <td>International TV Shows</td>\n",
       "      <td>722</td>\n",
       "      <td>7.142244</td>\n",
       "    </tr>\n",
       "    <tr>\n",
       "      <th>2</th>\n",
       "      <td>Combined</td>\n",
       "      <td>Comedies</td>\n",
       "      <td>711</td>\n",
       "      <td>5.943460</td>\n",
       "    </tr>\n",
       "    <tr>\n",
       "      <th>13</th>\n",
       "      <td>Combined</td>\n",
       "      <td>TV Dramas</td>\n",
       "      <td>451</td>\n",
       "      <td>7.219956</td>\n",
       "    </tr>\n",
       "    <tr>\n",
       "      <th>12</th>\n",
       "      <td>Combined</td>\n",
       "      <td>TV Comedies</td>\n",
       "      <td>348</td>\n",
       "      <td>6.989943</td>\n",
       "    </tr>\n",
       "    <tr>\n",
       "      <th>0</th>\n",
       "      <td>Combined</td>\n",
       "      <td>Action &amp; Adventure</td>\n",
       "      <td>306</td>\n",
       "      <td>6.016993</td>\n",
       "    </tr>\n",
       "    <tr>\n",
       "      <th>10</th>\n",
       "      <td>Combined</td>\n",
       "      <td>Romantic Movies</td>\n",
       "      <td>297</td>\n",
       "      <td>6.090572</td>\n",
       "    </tr>\n",
       "    <tr>\n",
       "      <th>7</th>\n",
       "      <td>Combined</td>\n",
       "      <td>Independent Movies</td>\n",
       "      <td>296</td>\n",
       "      <td>6.344257</td>\n",
       "    </tr>\n",
       "    <tr>\n",
       "      <th>3</th>\n",
       "      <td>Combined</td>\n",
       "      <td>Crime TV Shows</td>\n",
       "      <td>279</td>\n",
       "      <td>7.237276</td>\n",
       "    </tr>\n",
       "    <tr>\n",
       "      <th>4</th>\n",
       "      <td>Combined</td>\n",
       "      <td>Documentaries</td>\n",
       "      <td>277</td>\n",
       "      <td>6.971119</td>\n",
       "    </tr>\n",
       "    <tr>\n",
       "      <th>14</th>\n",
       "      <td>Combined</td>\n",
       "      <td>Thrillers</td>\n",
       "      <td>254</td>\n",
       "      <td>5.979528</td>\n",
       "    </tr>\n",
       "    <tr>\n",
       "      <th>11</th>\n",
       "      <td>Combined</td>\n",
       "      <td>Stand-Up Comedy</td>\n",
       "      <td>232</td>\n",
       "      <td>6.653017</td>\n",
       "    </tr>\n",
       "    <tr>\n",
       "      <th>5</th>\n",
       "      <td>Combined</td>\n",
       "      <td>Docuseries</td>\n",
       "      <td>212</td>\n",
       "      <td>7.241038</td>\n",
       "    </tr>\n",
       "    <tr>\n",
       "      <th>1</th>\n",
       "      <td>Combined</td>\n",
       "      <td>Children &amp; Family Movies</td>\n",
       "      <td>199</td>\n",
       "      <td>5.953769</td>\n",
       "    </tr>\n",
       "    <tr>\n",
       "      <th>23</th>\n",
       "      <td>Strict</td>\n",
       "      <td>International Movies</td>\n",
       "      <td>1074</td>\n",
       "      <td>6.183333</td>\n",
       "    </tr>\n",
       "    <tr>\n",
       "      <th>21</th>\n",
       "      <td>Strict</td>\n",
       "      <td>Dramas</td>\n",
       "      <td>912</td>\n",
       "      <td>6.382785</td>\n",
       "    </tr>\n",
       "    <tr>\n",
       "      <th>17</th>\n",
       "      <td>Strict</td>\n",
       "      <td>Comedies</td>\n",
       "      <td>624</td>\n",
       "      <td>5.946635</td>\n",
       "    </tr>\n",
       "    <tr>\n",
       "      <th>24</th>\n",
       "      <td>Strict</td>\n",
       "      <td>International TV Shows</td>\n",
       "      <td>503</td>\n",
       "      <td>7.012326</td>\n",
       "    </tr>\n",
       "    <tr>\n",
       "      <th>15</th>\n",
       "      <td>Strict</td>\n",
       "      <td>Action &amp; Adventure</td>\n",
       "      <td>278</td>\n",
       "      <td>5.987770</td>\n",
       "    </tr>\n",
       "    <tr>\n",
       "      <th>25</th>\n",
       "      <td>Strict</td>\n",
       "      <td>Romantic Movies</td>\n",
       "      <td>272</td>\n",
       "      <td>6.108088</td>\n",
       "    </tr>\n",
       "    <tr>\n",
       "      <th>28</th>\n",
       "      <td>Strict</td>\n",
       "      <td>TV Dramas</td>\n",
       "      <td>268</td>\n",
       "      <td>7.044403</td>\n",
       "    </tr>\n",
       "    <tr>\n",
       "      <th>19</th>\n",
       "      <td>Strict</td>\n",
       "      <td>Documentaries</td>\n",
       "      <td>247</td>\n",
       "      <td>6.984211</td>\n",
       "    </tr>\n",
       "    <tr>\n",
       "      <th>26</th>\n",
       "      <td>Strict</td>\n",
       "      <td>Stand-Up Comedy</td>\n",
       "      <td>228</td>\n",
       "      <td>6.657895</td>\n",
       "    </tr>\n",
       "    <tr>\n",
       "      <th>29</th>\n",
       "      <td>Strict</td>\n",
       "      <td>Thrillers</td>\n",
       "      <td>223</td>\n",
       "      <td>5.970852</td>\n",
       "    </tr>\n",
       "    <tr>\n",
       "      <th>22</th>\n",
       "      <td>Strict</td>\n",
       "      <td>Independent Movies</td>\n",
       "      <td>219</td>\n",
       "      <td>6.326027</td>\n",
       "    </tr>\n",
       "    <tr>\n",
       "      <th>18</th>\n",
       "      <td>Strict</td>\n",
       "      <td>Crime TV Shows</td>\n",
       "      <td>177</td>\n",
       "      <td>7.088136</td>\n",
       "    </tr>\n",
       "    <tr>\n",
       "      <th>16</th>\n",
       "      <td>Strict</td>\n",
       "      <td>Children &amp; Family Movies</td>\n",
       "      <td>175</td>\n",
       "      <td>5.945143</td>\n",
       "    </tr>\n",
       "    <tr>\n",
       "      <th>27</th>\n",
       "      <td>Strict</td>\n",
       "      <td>TV Comedies</td>\n",
       "      <td>173</td>\n",
       "      <td>6.800578</td>\n",
       "    </tr>\n",
       "    <tr>\n",
       "      <th>20</th>\n",
       "      <td>Strict</td>\n",
       "      <td>Docuseries</td>\n",
       "      <td>167</td>\n",
       "      <td>7.111377</td>\n",
       "    </tr>\n",
       "  </tbody>\n",
       "</table>\n",
       "</div>"
      ],
      "text/plain": [
       "     dataset                     genre  count  avg_score\n",
       "8   Combined      International Movies   1240   6.190968\n",
       "6   Combined                    Dramas   1067   6.369166\n",
       "9   Combined    International TV Shows    722   7.142244\n",
       "2   Combined                  Comedies    711   5.943460\n",
       "13  Combined                 TV Dramas    451   7.219956\n",
       "12  Combined               TV Comedies    348   6.989943\n",
       "0   Combined        Action & Adventure    306   6.016993\n",
       "10  Combined           Romantic Movies    297   6.090572\n",
       "7   Combined        Independent Movies    296   6.344257\n",
       "3   Combined            Crime TV Shows    279   7.237276\n",
       "4   Combined             Documentaries    277   6.971119\n",
       "14  Combined                 Thrillers    254   5.979528\n",
       "11  Combined           Stand-Up Comedy    232   6.653017\n",
       "5   Combined                Docuseries    212   7.241038\n",
       "1   Combined  Children & Family Movies    199   5.953769\n",
       "23    Strict      International Movies   1074   6.183333\n",
       "21    Strict                    Dramas    912   6.382785\n",
       "17    Strict                  Comedies    624   5.946635\n",
       "24    Strict    International TV Shows    503   7.012326\n",
       "15    Strict        Action & Adventure    278   5.987770\n",
       "25    Strict           Romantic Movies    272   6.108088\n",
       "28    Strict                 TV Dramas    268   7.044403\n",
       "19    Strict             Documentaries    247   6.984211\n",
       "26    Strict           Stand-Up Comedy    228   6.657895\n",
       "29    Strict                 Thrillers    223   5.970852\n",
       "22    Strict        Independent Movies    219   6.326027\n",
       "18    Strict            Crime TV Shows    177   7.088136\n",
       "16    Strict  Children & Family Movies    175   5.945143\n",
       "27    Strict               TV Comedies    173   6.800578\n",
       "20    Strict                Docuseries    167   7.111377"
      ]
     },
     "metadata": {},
     "output_type": "display_data"
    },
    {
     "data": {
      "image/png": "[encoded data removed]",
      "text/plain": [
       "<Figure size 900x800 with 1 Axes>"
      ]
     },
     "metadata": {},
     "output_type": "display_data"
    }
   ],
   "source": [
    "# 5) Genres frequency & average score\n",
    "def explode_genres(df):\n",
    "    # listed_in can be missing in combined strict+loose in some rows, guard it:\n",
    "    li = df.get(\"listed_in\")\n",
    "    if li is None:\n",
    "        return pd.DataFrame(columns=[\"genre\",\"imdb_score\",\"dataset\"])\n",
    "    # explode\n",
    "    tmp = df[[\"imdb_score\",\"listed_in\"]].dropna().copy()\n",
    "    tmp[\"listed_in\"] = tmp[\"listed_in\"].str.split(\",\")\n",
    "    tmp = tmp.explode(\"listed_in\")\n",
    "    tmp[\"genre\"] = tmp[\"listed_in\"].str.strip()\n",
    "    return tmp[[\"genre\",\"imdb_score\"]].dropna()\n",
    "\n",
    "g_strict   = explode_genres(strict).assign(dataset=\"Strict\")\n",
    "g_combined = explode_genres(combined).assign(dataset=\"Combined\")\n",
    "g_all = pd.concat([g_strict, g_combined], ignore_index=True)\n",
    "\n",
    "# top 15 genres by count (overall)\n",
    "top_genres = (g_all.groupby(\"genre\").size()\n",
    "              .sort_values(ascending=False)\n",
    "              .head(15)\n",
    "              .index.tolist())\n",
    "\n",
    "summary = (g_all[g_all[\"genre\"].isin(top_genres)]\n",
    "           .groupby([\"dataset\",\"genre\"])\n",
    "           .agg(count=(\"imdb_score\",\"size\"), avg_score=(\"imdb_score\",\"mean\"))\n",
    "           .reset_index()\n",
    "           .sort_values([\"dataset\",\"count\"], ascending=[True,False]))\n",
    "\n",
    "display(summary.head(30))\n",
    "\n",
    "# viz avg score for top genres\n",
    "pivot_avg = summary.pivot(index=\"genre\", columns=\"dataset\", values=\"avg_score\").loc[top_genres]\n",
    "pivot_avg.plot(kind=\"barh\", title=\"Avg IMDb Score by Genre (Top 15, Strict vs Combined)\", figsize=(9,8))\n",
    "plt.xlabel(\"Average IMDb Score\")\n",
    "plt.ylabel(\"Genre\")\n",
    "plt.gca().invert_yaxis()\n",
    "plt.show()"
   ]
  },
  {
   "cell_type": "markdown",
   "id": "0f0f5faa",
   "metadata": {},
   "source": [
    "•\tTop-15 genre averages are very close across datasets. Small shifts are composition, not a pipeline bug."
   ]
  },
  {
   "cell_type": "markdown",
   "id": "9d79a1fc",
   "metadata": {},
   "source": [
    "6. Country and Age Certification — distributions & score by group"
   ]
  },
  {
   "cell_type": "code",
   "execution_count": 51,
   "id": "c6375b20",
   "metadata": {},
   "outputs": [
    {
     "name": "stdout",
     "output_type": "stream",
     "text": [
      "Mean score by Top Countries (Strict):\n"
     ]
    },
    {
     "data": {
      "text/plain": [
       "country\n",
       "South Korea       7.331579\n",
       "Japan             7.074490\n",
       "United Kingdom    6.777647\n",
       "Unknown           6.506098\n",
       "United States     6.433939\n",
       "Philippines       6.415000\n",
       "Other             6.395055\n",
       "Spain             6.339394\n",
       "India             6.314081\n",
       "France            6.221429\n",
       "Canada            5.947500\n",
       "Nigeria           5.873171\n",
       "Name: imdb_score, dtype: float64"
      ]
     },
     "metadata": {},
     "output_type": "display_data"
    },
    {
     "name": "stdout",
     "output_type": "stream",
     "text": [
      "Mean score by Top Countries (Combined):\n"
     ]
    },
    {
     "data": {
      "text/plain": [
       "country\n",
       "South Korea       7.284685\n",
       "Japan             7.237778\n",
       "United Kingdom    7.037762\n",
       "United States     6.568087\n",
       "Unknown           6.484935\n",
       "Canada            6.474627\n",
       "Spain             6.466667\n",
       "France            6.414085\n",
       "Philippines       6.410769\n",
       "India             6.328419\n",
       "Nigeria           5.936170\n",
       "Name: imdb_score, dtype: float64"
      ]
     },
     "metadata": {},
     "output_type": "display_data"
    },
    {
     "name": "stdout",
     "output_type": "stream",
     "text": [
      "Mean score by Age Cert (Strict):\n"
     ]
    },
    {
     "data": {
      "text/plain": [
       "age_certification\n",
       "TV-14      7.110145\n",
       "TV-MA      6.926884\n",
       "TV-PG      6.632895\n",
       "PG-13      6.401136\n",
       "R          6.297523\n",
       "Unknown    6.284512\n",
       "G          6.237097\n",
       "PG         6.182278\n",
       "Name: imdb_score, dtype: float64"
      ]
     },
     "metadata": {},
     "output_type": "display_data"
    },
    {
     "name": "stdout",
     "output_type": "stream",
     "text": [
      "Mean score by Age Cert (Combined):\n"
     ]
    },
    {
     "data": {
      "text/plain": [
       "age_certification\n",
       "TV-14      7.262615\n",
       "TV-MA      7.065909\n",
       "TV-PG      6.916860\n",
       "PG-13      6.445694\n",
       "G          6.393333\n",
       "R          6.326190\n",
       "Unknown    6.273705\n",
       "PG         6.212236\n",
       "Name: imdb_score, dtype: float64"
      ]
     },
     "metadata": {},
     "output_type": "display_data"
    }
   ],
   "source": [
    "def top_by_col(df, col, n=12):\n",
    "    return (df[col].value_counts()\n",
    "            .head(n)\n",
    "            .index.tolist())\n",
    "\n",
    "top_countries = top_by_col(strict, \"country\", 12)\n",
    "top_ages      = top_by_col(strict, \"age_certification\", 8)\n",
    "\n",
    "def mean_score_by(df, col, keep):\n",
    "    tmp = df[df[col].isin(keep)]\n",
    "    return tmp.groupby(col)[\"imdb_score\"].mean().sort_values(ascending=False)\n",
    "\n",
    "print(\"Mean score by Top Countries (Strict):\")\n",
    "display(mean_score_by(strict, \"country\", top_countries))\n",
    "\n",
    "print(\"Mean score by Top Countries (Combined):\")\n",
    "display(mean_score_by(combined, \"country\", top_countries))\n",
    "\n",
    "print(\"Mean score by Age Cert (Strict):\")\n",
    "display(mean_score_by(strict, \"age_certification\", top_ages))\n",
    "\n",
    "print(\"Mean score by Age Cert (Combined):\")\n",
    "display(mean_score_by(combined, \"age_certification\", top_ages))"
   ]
  },
  {
   "cell_type": "markdown",
   "id": "b40ac0f3",
   "metadata": {},
   "source": [
    "•\tKR/JP a bit higher; TV-14/MA higher than G/PG. This is pattern, not causation."
   ]
  },
  {
   "cell_type": "markdown",
   "id": "0219f2e7",
   "metadata": {},
   "source": [
    "7. Correlations (numeric) - Strict vs Combined"
   ]
  },
  {
   "cell_type": "code",
   "execution_count": 52,
   "id": "43d21312",
   "metadata": {},
   "outputs": [
    {
     "name": "stdout",
     "output_type": "stream",
     "text": [
      "Correlation with imdb_score — Strict\n"
     ]
    },
    {
     "data": {
      "text/plain": [
       "imdb_score          1.000000\n",
       "is_show             0.272315\n",
       "imdb_votes_log1p    0.183905\n",
       "imdb_votes          0.150042\n",
       "desc_len            0.020940\n",
       "is_classic          0.016057\n",
       "num_genres          0.006926\n",
       "release_year       -0.058929\n",
       "duration_minutes   -0.095401\n",
       "runtime            -0.118707\n",
       "Name: imdb_score, dtype: float64"
      ]
     },
     "metadata": {},
     "output_type": "display_data"
    },
    {
     "name": "stdout",
     "output_type": "stream",
     "text": [
      "Correlation with imdb_score — Combined\n"
     ]
    },
    {
     "data": {
      "text/plain": [
       "imdb_score          1.000000\n",
       "is_show             0.310083\n",
       "imdb_votes_log1p    0.223570\n",
       "imdb_votes          0.189954\n",
       "is_classic          0.034474\n",
       "num_genres          0.032393\n",
       "desc_len            0.029324\n",
       "release_year       -0.102952\n",
       "duration_minutes   -0.158146\n",
       "runtime            -0.158390\n",
       "Name: imdb_score, dtype: float64"
      ]
     },
     "metadata": {},
     "output_type": "display_data"
    },
    {
     "data": {
      "image/png": "[encoded data removed]",
      "text/plain": [
       "<Figure size 800x600 with 1 Axes>"
      ]
     },
     "metadata": {},
     "output_type": "display_data"
    }
   ],
   "source": [
    "# 7) Correlations (numeric only)\n",
    "num_cols = [\n",
    "    \"imdb_score\",\"imdb_votes\",\"imdb_votes_log1p\",\n",
    "    \"runtime\",\"duration_minutes\",\"release_year\",\n",
    "    \"desc_len\",\"num_genres\",\"is_show\",\"is_classic\"\n",
    "]\n",
    "\n",
    "corr_strict   = strict[num_cols].corr(numeric_only=True)[\"imdb_score\"].sort_values(ascending=False)\n",
    "corr_combined = combined[num_cols].corr(numeric_only=True)[\"imdb_score\"].sort_values(ascending=False)\n",
    "\n",
    "print(\"Correlation with imdb_score — Strict\")\n",
    "display(corr_strict)\n",
    "\n",
    "print(\"Correlation with imdb_score — Combined\")\n",
    "display(corr_combined)\n",
    "\n",
    "# side-by-side small bar chart\n",
    "corr_df = pd.DataFrame({\n",
    "    \"Strict\": corr_strict,\n",
    "    \"Combined\": corr_combined\n",
    "}).drop(index=\"imdb_score\")\n",
    "\n",
    "corr_df.plot(kind=\"barh\", figsize=(8,6), title=\"Correlation with IMDb Score\")\n",
    "plt.gca().invert_yaxis()\n",
    "plt.show()"
   ]
  },
  {
   "cell_type": "markdown",
   "id": "c2b64d97",
   "metadata": {},
   "source": [
    "•\tis_show (~0.27–0.31) and log1p(votes) (~0.18–0.22) have the most signal. Runtime and release year are mildly negative. That’s normal for IMDb: scores don’t linearly depend on any single feature."
   ]
  },
  {
   "cell_type": "markdown",
   "id": "45306ded",
   "metadata": {},
   "source": [
    "8. Simple “Does loose metadata help?” sanity checks"
   ]
  },
  {
   "cell_type": "code",
   "execution_count": 53,
   "id": "094d3d63",
   "metadata": {},
   "outputs": [
    {
     "data": {
      "text/html": [
       "<div>\n",
       "<style scoped>\n",
       "    .dataframe tbody tr th:only-of-type {\n",
       "        vertical-align: middle;\n",
       "    }\n",
       "\n",
       "    .dataframe tbody tr th {\n",
       "        vertical-align: top;\n",
       "    }\n",
       "\n",
       "    .dataframe thead th {\n",
       "        text-align: right;\n",
       "    }\n",
       "</style>\n",
       "<table border=\"1\" class=\"dataframe\">\n",
       "  <thead>\n",
       "    <tr style=\"text-align: right;\">\n",
       "      <th></th>\n",
       "      <th>dataset</th>\n",
       "      <th>pct_with_meta</th>\n",
       "      <th>avg_score_with_meta</th>\n",
       "      <th>avg_score_without_meta</th>\n",
       "    </tr>\n",
       "  </thead>\n",
       "  <tbody>\n",
       "    <tr>\n",
       "      <th>0</th>\n",
       "      <td>Strict</td>\n",
       "      <td>100.0</td>\n",
       "      <td>6.449136</td>\n",
       "      <td>NaN</td>\n",
       "    </tr>\n",
       "    <tr>\n",
       "      <th>1</th>\n",
       "      <td>Combined</td>\n",
       "      <td>100.0</td>\n",
       "      <td>6.533264</td>\n",
       "      <td>NaN</td>\n",
       "    </tr>\n",
       "  </tbody>\n",
       "</table>\n",
       "</div>"
      ],
      "text/plain": [
       "    dataset  pct_with_meta  avg_score_with_meta  avg_score_without_meta\n",
       "0    Strict          100.0             6.449136                     NaN\n",
       "1  Combined          100.0             6.533264                     NaN"
      ]
     },
     "metadata": {},
     "output_type": "display_data"
    }
   ],
   "source": [
    "# 8) Does the extra metadata correlate with higher score?\n",
    "# Define \"got any extra meta\" proxy for combined (rows where director/cast/country present)\n",
    "combined[\"has_meta_any\"] = combined[[\"director\",\"cast\",\"country\"]].notna().any(axis=1)\n",
    "strict[\"has_meta_any\"]   = strict[[\"director\",\"cast\",\"country\"]].notna().any(axis=1)\n",
    "\n",
    "comp_meta = pd.DataFrame({\n",
    "    \"dataset\":[\"Strict\",\"Combined\"],\n",
    "    \"pct_with_meta\":[strict[\"has_meta_any\"].mean()*100, combined[\"has_meta_any\"].mean()*100],\n",
    "    \"avg_score_with_meta\":[strict.loc[strict[\"has_meta_any\"],\"imdb_score\"].mean(),\n",
    "                           combined.loc[combined[\"has_meta_any\"],\"imdb_score\"].mean()],\n",
    "    \"avg_score_without_meta\":[strict.loc[~strict[\"has_meta_any\"],\"imdb_score\"].mean(),\n",
    "                              combined.loc[~combined[\"has_meta_any\"],\"imdb_score\"].mean()]\n",
    "})\n",
    "display(comp_meta)"
   ]
  },
  {
   "cell_type": "markdown",
   "id": "a5386851",
   "metadata": {},
   "source": [
    "All core features are present in all rows, because with meta/without meta is 100%/0% respectively."
   ]
  },
  {
   "cell_type": "markdown",
   "id": "69cbbb3f",
   "metadata": {},
   "source": [
    "### Export a model-ready table"
   ]
  },
  {
   "cell_type": "markdown",
   "id": "86710ffe",
   "metadata": {},
   "source": [
    "1. Import libraries"
   ]
  },
  {
   "cell_type": "code",
   "execution_count": 54,
   "id": "8269d3aa",
   "metadata": {},
   "outputs": [],
   "source": [
    "import pandas as pd\n",
    "from pathlib import Path"
   ]
  },
  {
   "cell_type": "markdown",
   "id": "a206972a",
   "metadata": {},
   "source": [
    "2. Paths"
   ]
  },
  {
   "cell_type": "code",
   "execution_count": 56,
   "id": "f0ab9ddc",
   "metadata": {},
   "outputs": [],
   "source": [
    "PROCESSED = Path(\"../data/processed\")"
   ]
  },
  {
   "cell_type": "markdown",
   "id": "ba2e167c",
   "metadata": {},
   "source": [
    "3. Load datasets: strict clean and combined synced"
   ]
  },
  {
   "cell_type": "code",
   "execution_count": 57,
   "id": "6b665500",
   "metadata": {},
   "outputs": [],
   "source": [
    "strict = pd.read_csv(PROCESSED / \"netflix_strict_clean.csv\")\n",
    "combined = pd.read_csv(PROCESSED / \"netflix_combined_clean_synced.csv\")"
   ]
  },
  {
   "cell_type": "markdown",
   "id": "26072081",
   "metadata": {},
   "source": [
    "4. Helpers: Build model table"
   ]
  },
  {
   "cell_type": "code",
   "execution_count": 58,
   "id": "3047c459",
   "metadata": {},
   "outputs": [],
   "source": [
    "def build_model_table(df: pd.DataFrame,\n",
    "                      one_hot_cols=(\"age_certification\", \"country\"),\n",
    "                      top_k_country=12):\n",
    "    out = df.copy()\n",
    "\n",
    "    # ---- basic numeric features (already prepared in earlier notebooks)\n",
    "    num_keep = [\n",
    "        \"imdb_score\",          # target for regression\n",
    "        \"imdb_votes\",          # raw\n",
    "        \"imdb_votes_log1p\",    # transformed\n",
    "        \"runtime\",\n",
    "        \"duration_minutes\",\n",
    "        \"release_year\",\n",
    "        \"desc_len\",\n",
    "        \"num_genres\",\n",
    "        \"is_show\",\n",
    "        \"is_classic\",\n",
    "    ]\n",
    "    # keep only existing\n",
    "    num_keep = [c for c in num_keep if c in out.columns]\n",
    "    out = out[num_keep + [\"title\", \"type\"]]  # keep a couple for traceability\n",
    "\n",
    "    # ---- classification target\n",
    "    out[\"is_high\"] = (out[\"imdb_score\"] >= 7.0).astype(int)\n",
    "\n",
    "    # ---- categorical encoding (small, interpretable)\n",
    "    if \"age_certification\" in one_hot_cols and \"age_certification\" in df.columns:\n",
    "        ac = pd.get_dummies(df[\"age_certification\"], prefix=\"age\", drop_first=False)\n",
    "        out = pd.concat([out, ac], axis=1)\n",
    "\n",
    "    if \"country\" in one_hot_cols and \"country\" in df.columns:\n",
    "        # keep top-K frequent countries; others go to \"Other\"\n",
    "        top_countries = (\n",
    "            df[\"country\"]\n",
    "            .value_counts()\n",
    "            .head(top_k_country)\n",
    "            .index.tolist()\n",
    "        )\n",
    "        country_slim = df[\"country\"].where(df[\"country\"].isin(top_countries), \"Other\")\n",
    "        c_enc = pd.get_dummies(country_slim, prefix=\"ctry\", drop_first=False)\n",
    "        out = pd.concat([out, c_enc], axis=1)\n",
    "\n",
    "    # Optional: one-hot for 'type' if you prefer instead of is_show\n",
    "    # type_d = pd.get_dummies(df[\"type\"], prefix=\"type\", drop_first=True)\n",
    "    # out = pd.concat([out, type_d], axis=1)\n",
    "\n",
    "    # Final sanity: drop rows with missing numeric essentials\n",
    "    must_have = [\"imdb_score\", \"imdb_votes_log1p\", \"duration_minutes\", \"release_year\"]\n",
    "    must_have = [c for c in must_have if c in out.columns]\n",
    "    out = out.dropna(subset=must_have)\n",
    "\n",
    "    return out"
   ]
  },
  {
   "cell_type": "markdown",
   "id": "ca8c2ed5",
   "metadata": {},
   "source": [
    "5. Model tables"
   ]
  },
  {
   "cell_type": "code",
   "execution_count": 59,
   "id": "15d29ff1",
   "metadata": {},
   "outputs": [],
   "source": [
    "strict_model   = build_model_table(strict)\n",
    "combined_model = build_model_table(combined)"
   ]
  },
  {
   "cell_type": "markdown",
   "id": "52b74b81",
   "metadata": {},
   "source": [
    "5. \n",
    "Save with plain NumPy-backed dtypes\n",
    "\n",
    "6. "
   ]
  },
  {
   "cell_type": "code",
   "execution_count": 69,
   "id": "790cab49",
   "metadata": {},
   "outputs": [
    {
     "name": "stdout",
     "output_type": "stream",
     "text": [
      "[ok] CSV: ../data/processed/model_strict.csv\n",
      "[ok] CSV: ../data/processed/model_combined.csv\n",
      "[warn] pyarrow failed: A type extension with name pandas.period already defined\n",
      "[ok] Parquet (fastparquet): ../data/processed/model_strict.parquet\n",
      "[warn] pyarrow failed: A type extension with name pandas.period already defined\n",
      "[ok] Parquet (fastparquet): ../data/processed/model_combined.parquet\n",
      "\n",
      "Summary:\n",
      " - CSV strict:     ../data/processed/model_strict.csv\n",
      " - CSV combined:   ../data/processed/model_combined.csv\n",
      " - Parquet strict: saved (../data/processed/model_strict.parquet)\n",
      " - Parquet comb.:  saved (../data/processed/model_combined.parquet)\n"
     ]
    }
   ],
   "source": [
    "# --- Final export: CSV + Parquet with robust dtype sanitization and engine fallback ---\n",
    "\n",
    "from pathlib import Path\n",
    "import os\n",
    "import pandas as pd\n",
    "from pandas.api.types import CategoricalDtype, PeriodDtype\n",
    "\n",
    "# EXPECTS these DataFrames to already exist:\n",
    "#   - strict_model\n",
    "#   - combined_model\n",
    "\n",
    "OUT_DIR = Path(\"../data/processed\")\n",
    "OUT_DIR.mkdir(parents=True, exist_ok=True)\n",
    "\n",
    "STRICT_CSV  = OUT_DIR / \"model_strict.csv\"\n",
    "COMBINED_CSV = OUT_DIR / \"model_combined.csv\"\n",
    "STRICT_PARQUET  = OUT_DIR / \"model_strict.parquet\"\n",
    "COMBINED_PARQUET = OUT_DIR / \"model_combined.parquet\"\n",
    "\n",
    "\n",
    "def sanitize_for_parquet(df: pd.DataFrame) -> pd.DataFrame:\n",
    "    \"\"\"\n",
    "    Make a copy with parquet-friendly dtypes:\n",
    "    - Use numpy_nullable backend (avoid Arrow-backed extension types)\n",
    "    - Convert boolean -> UInt8 (0/1/<NA>)\n",
    "    - Convert category -> string\n",
    "    - Convert Period -> string (critical for pyarrow)\n",
    "    \"\"\"\n",
    "    out = df.copy()\n",
    "\n",
    "    # Normalize to NumPy/nullable-NumPy dtypes (no pyarrow-backed dtypes)\n",
    "    out = out.convert_dtypes(dtype_backend=\"numpy_nullable\")\n",
    "\n",
    "    for c in out.columns:\n",
    "        dt = out[c].dtype\n",
    "\n",
    "        # nullable boolean -> UInt8\n",
    "        if str(dt) in (\"boolean\", \"bool\"):\n",
    "            out[c] = out[c].astype(\"UInt8\")\n",
    "\n",
    "        # category -> plain string\n",
    "        elif isinstance(dt, CategoricalDtype):\n",
    "            out[c] = out[c].astype(\"string\")\n",
    "\n",
    "        # Period -> string (pyarrow can't handle pandas.period extension cleanly)\n",
    "        elif isinstance(dt, PeriodDtype):\n",
    "            out[c] = out[c].astype(\"string\")\n",
    "\n",
    "    return out\n",
    "\n",
    "\n",
    "def write_parquet_with_fallback(df: pd.DataFrame, path: Path) -> bool:\n",
    "    \"\"\"\n",
    "    Try pyarrow; if it fails, try fastparquet.\n",
    "    Return True on success, False if both engines fail.\n",
    "    \"\"\"\n",
    "    # remove stale file if created by a different engine earlier\n",
    "    try:\n",
    "        os.remove(path)\n",
    "    except FileNotFoundError:\n",
    "        pass\n",
    "\n",
    "    # Always sanitize first\n",
    "    clean = sanitize_for_parquet(df)\n",
    "\n",
    "    # Try pyarrow\n",
    "    try:\n",
    "        clean.to_parquet(path, index=False, engine=\"pyarrow\")\n",
    "        # quick round-trip\n",
    "        _ = pd.read_parquet(path, engine=\"pyarrow\").head()\n",
    "        print(f\"[ok] Parquet (pyarrow): {path}\")\n",
    "        return True\n",
    "    except Exception as e_pa:\n",
    "        print(f\"[warn] pyarrow failed: {e_pa}\")\n",
    "\n",
    "    # Fallback: fastparquet\n",
    "    try:\n",
    "        clean.to_parquet(path, index=False, engine=\"fastparquet\")\n",
    "        _ = pd.read_parquet(path, engine=\"fastparquet\").head()\n",
    "        print(f\"[ok] Parquet (fastparquet): {path}\")\n",
    "        return True\n",
    "    except Exception as e_fp:\n",
    "        print(f\"[warn] fastparquet failed: {e_fp}\")\n",
    "        print(\"[skip] Could not write parquet with either engine.\")\n",
    "        return False\n",
    "\n",
    "\n",
    "# ---- Write CSVs (always) ----\n",
    "strict_model.to_csv(STRICT_CSV, index=False)\n",
    "combined_model.to_csv(COMBINED_CSV, index=False)\n",
    "print(f\"[ok] CSV: {STRICT_CSV}\")\n",
    "print(f\"[ok] CSV: {COMBINED_CSV}\")\n",
    "\n",
    "# ---- Parquet (best-effort with fallback) ----\n",
    "ok1 = write_parquet_with_fallback(strict_model, STRICT_PARQUET)\n",
    "ok2 = write_parquet_with_fallback(combined_model, COMBINED_PARQUET)\n",
    "\n",
    "print(\"\\nSummary:\")\n",
    "print(f\" - CSV strict:     {STRICT_CSV}\")\n",
    "print(f\" - CSV combined:   {COMBINED_CSV}\")\n",
    "print(f\" - Parquet strict: {'saved' if ok1 else 'skipped'} ({STRICT_PARQUET})\")\n",
    "print(f\" - Parquet comb.:  {'saved' if ok2 else 'skipped'} ({COMBINED_PARQUET})\")"
   ]
  }
 ],
 "metadata": {
  "kernelspec": {
   "display_name": "netflix-imdb",
   "language": "python",
   "name": "python3"
  },
  "language_info": {
   "codemirror_mode": {
    "name": "ipython",
    "version": 3
   },
   "file_extension": ".py",
   "mimetype": "text/x-python",
   "name": "python",
   "nbconvert_exporter": "python",
   "pygments_lexer": "ipython3",
   "version": "3.11.13"
  }
 },
 "nbformat": 4,
 "nbformat_minor": 5
}
